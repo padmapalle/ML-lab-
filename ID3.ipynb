{
  "nbformat": 4,
  "nbformat_minor": 0,
  "metadata": {
    "colab": {
      "provenance": [],
      "authorship_tag": "ABX9TyOZDRr1bIR3B/mmzExGKm0g",
      "include_colab_link": true
    },
    "kernelspec": {
      "name": "python3",
      "display_name": "Python 3"
    },
    "language_info": {
      "name": "python"
    }
  },
  "cells": [
    {
      "cell_type": "markdown",
      "metadata": {
        "id": "view-in-github",
        "colab_type": "text"
      },
      "source": [
        "<a href=\"https://colab.research.google.com/github/keerthipreddy/ML/blob/main/ID3.ipynb\" target=\"_parent\"><img src=\"https://colab.research.google.com/assets/colab-badge.svg\" alt=\"Open In Colab\"/></a>"
      ]
    },
    {
      "cell_type": "code",
      "execution_count": 3,
      "metadata": {
        "id": "ngni-G75f81w"
      },
      "outputs": [],
      "source": [
        "import pandas as pd\n",
        "import numpy as np\n",
        "import math\n",
        "\n",
        "# Reading the dataset (Tennis-dataset)\n",
        "data = pd.read_csv('/content/PlayTennis.csv')"
      ]
    },
    {
      "cell_type": "code",
      "source": [
        "def highlight(cell_value):\n",
        "    '''\n",
        "    Highlight yes / no values in the dataframe\n",
        "    '''\n",
        "    color_1 = 'background-color: pink;'\n",
        "    color_2 = 'background-color: lightgreen;'\n",
        "\n",
        "    if cell_value == 'no':\n",
        "        return color_1\n",
        "    elif cell_value == 'yes':\n",
        "        return color_2\n",
        "\n",
        "data.style.applymap(highlight)\\\n",
        "    .set_properties(subset=data.columns, **{'width': '100px'})\\\n",
        "    .set_table_styles([{'selector': 'th', 'props': [('background-color', 'lightgray'), ('border', '1px solid gray'),\n",
        "                                                    ('font-weight', 'bold')]},\n",
        "     {'selector': 'tr:hover', 'props': [('background-color', 'white'), ('border', '1.5px solid black')]}])"
      ],
      "metadata": {
        "colab": {
          "base_uri": "https://localhost:8080/",
          "height": 503
        },
        "id": "nBzzGFsXhY9Z",
        "outputId": "2bb1e919-6769-4eb0-bae6-4d49a1ad29a0"
      },
      "execution_count": 8,
      "outputs": [
        {
          "output_type": "execute_result",
          "data": {
            "text/plain": [
              "<pandas.io.formats.style.Styler at 0x7c50eb1ffaf0>"
            ],
            "text/html": [
              "<style type=\"text/css\">\n",
              "#T_8af63 th {\n",
              "  background-color: lightgray;\n",
              "  border: 1px solid gray;\n",
              "  font-weight: bold;\n",
              "}\n",
              "#T_8af63 tr:hover {\n",
              "  background-color: white;\n",
              "  border: 1.5px solid black;\n",
              "}\n",
              "#T_8af63_row0_col0, #T_8af63_row0_col1, #T_8af63_row0_col2, #T_8af63_row0_col3, #T_8af63_row1_col0, #T_8af63_row1_col1, #T_8af63_row1_col2, #T_8af63_row1_col3, #T_8af63_row2_col0, #T_8af63_row2_col1, #T_8af63_row2_col2, #T_8af63_row2_col3, #T_8af63_row3_col0, #T_8af63_row3_col1, #T_8af63_row3_col2, #T_8af63_row3_col3, #T_8af63_row4_col0, #T_8af63_row4_col1, #T_8af63_row4_col2, #T_8af63_row4_col3, #T_8af63_row5_col0, #T_8af63_row5_col1, #T_8af63_row5_col2, #T_8af63_row5_col3, #T_8af63_row6_col0, #T_8af63_row6_col1, #T_8af63_row6_col2, #T_8af63_row6_col3, #T_8af63_row7_col0, #T_8af63_row7_col1, #T_8af63_row7_col2, #T_8af63_row7_col3, #T_8af63_row8_col0, #T_8af63_row8_col1, #T_8af63_row8_col2, #T_8af63_row8_col3, #T_8af63_row9_col0, #T_8af63_row9_col1, #T_8af63_row9_col2, #T_8af63_row9_col3, #T_8af63_row10_col0, #T_8af63_row10_col1, #T_8af63_row10_col2, #T_8af63_row10_col3, #T_8af63_row11_col0, #T_8af63_row11_col1, #T_8af63_row11_col2, #T_8af63_row11_col3, #T_8af63_row12_col0, #T_8af63_row12_col1, #T_8af63_row12_col2, #T_8af63_row12_col3, #T_8af63_row13_col0, #T_8af63_row13_col1, #T_8af63_row13_col2, #T_8af63_row13_col3 {\n",
              "  width: 100px;\n",
              "}\n",
              "#T_8af63_row0_col4, #T_8af63_row1_col4, #T_8af63_row5_col4, #T_8af63_row7_col4, #T_8af63_row13_col4 {\n",
              "  background-color: pink;\n",
              "  width: 100px;\n",
              "}\n",
              "#T_8af63_row2_col4, #T_8af63_row3_col4, #T_8af63_row4_col4, #T_8af63_row6_col4, #T_8af63_row8_col4, #T_8af63_row9_col4, #T_8af63_row10_col4, #T_8af63_row11_col4, #T_8af63_row12_col4 {\n",
              "  background-color: lightgreen;\n",
              "  width: 100px;\n",
              "}\n",
              "</style>\n",
              "<table id=\"T_8af63\" class=\"dataframe\">\n",
              "  <thead>\n",
              "    <tr>\n",
              "      <th class=\"blank level0\" >&nbsp;</th>\n",
              "      <th id=\"T_8af63_level0_col0\" class=\"col_heading level0 col0\" >outlook</th>\n",
              "      <th id=\"T_8af63_level0_col1\" class=\"col_heading level0 col1\" >temp</th>\n",
              "      <th id=\"T_8af63_level0_col2\" class=\"col_heading level0 col2\" >humidity</th>\n",
              "      <th id=\"T_8af63_level0_col3\" class=\"col_heading level0 col3\" >windy</th>\n",
              "      <th id=\"T_8af63_level0_col4\" class=\"col_heading level0 col4\" >play</th>\n",
              "    </tr>\n",
              "  </thead>\n",
              "  <tbody>\n",
              "    <tr>\n",
              "      <th id=\"T_8af63_level0_row0\" class=\"row_heading level0 row0\" >0</th>\n",
              "      <td id=\"T_8af63_row0_col0\" class=\"data row0 col0\" >sunny</td>\n",
              "      <td id=\"T_8af63_row0_col1\" class=\"data row0 col1\" >hot</td>\n",
              "      <td id=\"T_8af63_row0_col2\" class=\"data row0 col2\" >high</td>\n",
              "      <td id=\"T_8af63_row0_col3\" class=\"data row0 col3\" >False</td>\n",
              "      <td id=\"T_8af63_row0_col4\" class=\"data row0 col4\" >no</td>\n",
              "    </tr>\n",
              "    <tr>\n",
              "      <th id=\"T_8af63_level0_row1\" class=\"row_heading level0 row1\" >1</th>\n",
              "      <td id=\"T_8af63_row1_col0\" class=\"data row1 col0\" >sunny</td>\n",
              "      <td id=\"T_8af63_row1_col1\" class=\"data row1 col1\" >hot</td>\n",
              "      <td id=\"T_8af63_row1_col2\" class=\"data row1 col2\" >high</td>\n",
              "      <td id=\"T_8af63_row1_col3\" class=\"data row1 col3\" >True</td>\n",
              "      <td id=\"T_8af63_row1_col4\" class=\"data row1 col4\" >no</td>\n",
              "    </tr>\n",
              "    <tr>\n",
              "      <th id=\"T_8af63_level0_row2\" class=\"row_heading level0 row2\" >2</th>\n",
              "      <td id=\"T_8af63_row2_col0\" class=\"data row2 col0\" >overcast</td>\n",
              "      <td id=\"T_8af63_row2_col1\" class=\"data row2 col1\" >hot</td>\n",
              "      <td id=\"T_8af63_row2_col2\" class=\"data row2 col2\" >high</td>\n",
              "      <td id=\"T_8af63_row2_col3\" class=\"data row2 col3\" >False</td>\n",
              "      <td id=\"T_8af63_row2_col4\" class=\"data row2 col4\" >yes</td>\n",
              "    </tr>\n",
              "    <tr>\n",
              "      <th id=\"T_8af63_level0_row3\" class=\"row_heading level0 row3\" >3</th>\n",
              "      <td id=\"T_8af63_row3_col0\" class=\"data row3 col0\" >rainy</td>\n",
              "      <td id=\"T_8af63_row3_col1\" class=\"data row3 col1\" >mild</td>\n",
              "      <td id=\"T_8af63_row3_col2\" class=\"data row3 col2\" >high</td>\n",
              "      <td id=\"T_8af63_row3_col3\" class=\"data row3 col3\" >False</td>\n",
              "      <td id=\"T_8af63_row3_col4\" class=\"data row3 col4\" >yes</td>\n",
              "    </tr>\n",
              "    <tr>\n",
              "      <th id=\"T_8af63_level0_row4\" class=\"row_heading level0 row4\" >4</th>\n",
              "      <td id=\"T_8af63_row4_col0\" class=\"data row4 col0\" >rainy</td>\n",
              "      <td id=\"T_8af63_row4_col1\" class=\"data row4 col1\" >cool</td>\n",
              "      <td id=\"T_8af63_row4_col2\" class=\"data row4 col2\" >normal</td>\n",
              "      <td id=\"T_8af63_row4_col3\" class=\"data row4 col3\" >False</td>\n",
              "      <td id=\"T_8af63_row4_col4\" class=\"data row4 col4\" >yes</td>\n",
              "    </tr>\n",
              "    <tr>\n",
              "      <th id=\"T_8af63_level0_row5\" class=\"row_heading level0 row5\" >5</th>\n",
              "      <td id=\"T_8af63_row5_col0\" class=\"data row5 col0\" >rainy</td>\n",
              "      <td id=\"T_8af63_row5_col1\" class=\"data row5 col1\" >cool</td>\n",
              "      <td id=\"T_8af63_row5_col2\" class=\"data row5 col2\" >normal</td>\n",
              "      <td id=\"T_8af63_row5_col3\" class=\"data row5 col3\" >True</td>\n",
              "      <td id=\"T_8af63_row5_col4\" class=\"data row5 col4\" >no</td>\n",
              "    </tr>\n",
              "    <tr>\n",
              "      <th id=\"T_8af63_level0_row6\" class=\"row_heading level0 row6\" >6</th>\n",
              "      <td id=\"T_8af63_row6_col0\" class=\"data row6 col0\" >overcast</td>\n",
              "      <td id=\"T_8af63_row6_col1\" class=\"data row6 col1\" >cool</td>\n",
              "      <td id=\"T_8af63_row6_col2\" class=\"data row6 col2\" >normal</td>\n",
              "      <td id=\"T_8af63_row6_col3\" class=\"data row6 col3\" >True</td>\n",
              "      <td id=\"T_8af63_row6_col4\" class=\"data row6 col4\" >yes</td>\n",
              "    </tr>\n",
              "    <tr>\n",
              "      <th id=\"T_8af63_level0_row7\" class=\"row_heading level0 row7\" >7</th>\n",
              "      <td id=\"T_8af63_row7_col0\" class=\"data row7 col0\" >sunny</td>\n",
              "      <td id=\"T_8af63_row7_col1\" class=\"data row7 col1\" >mild</td>\n",
              "      <td id=\"T_8af63_row7_col2\" class=\"data row7 col2\" >high</td>\n",
              "      <td id=\"T_8af63_row7_col3\" class=\"data row7 col3\" >False</td>\n",
              "      <td id=\"T_8af63_row7_col4\" class=\"data row7 col4\" >no</td>\n",
              "    </tr>\n",
              "    <tr>\n",
              "      <th id=\"T_8af63_level0_row8\" class=\"row_heading level0 row8\" >8</th>\n",
              "      <td id=\"T_8af63_row8_col0\" class=\"data row8 col0\" >sunny</td>\n",
              "      <td id=\"T_8af63_row8_col1\" class=\"data row8 col1\" >cool</td>\n",
              "      <td id=\"T_8af63_row8_col2\" class=\"data row8 col2\" >normal</td>\n",
              "      <td id=\"T_8af63_row8_col3\" class=\"data row8 col3\" >False</td>\n",
              "      <td id=\"T_8af63_row8_col4\" class=\"data row8 col4\" >yes</td>\n",
              "    </tr>\n",
              "    <tr>\n",
              "      <th id=\"T_8af63_level0_row9\" class=\"row_heading level0 row9\" >9</th>\n",
              "      <td id=\"T_8af63_row9_col0\" class=\"data row9 col0\" >rainy</td>\n",
              "      <td id=\"T_8af63_row9_col1\" class=\"data row9 col1\" >mild</td>\n",
              "      <td id=\"T_8af63_row9_col2\" class=\"data row9 col2\" >normal</td>\n",
              "      <td id=\"T_8af63_row9_col3\" class=\"data row9 col3\" >False</td>\n",
              "      <td id=\"T_8af63_row9_col4\" class=\"data row9 col4\" >yes</td>\n",
              "    </tr>\n",
              "    <tr>\n",
              "      <th id=\"T_8af63_level0_row10\" class=\"row_heading level0 row10\" >10</th>\n",
              "      <td id=\"T_8af63_row10_col0\" class=\"data row10 col0\" >sunny</td>\n",
              "      <td id=\"T_8af63_row10_col1\" class=\"data row10 col1\" >mild</td>\n",
              "      <td id=\"T_8af63_row10_col2\" class=\"data row10 col2\" >normal</td>\n",
              "      <td id=\"T_8af63_row10_col3\" class=\"data row10 col3\" >True</td>\n",
              "      <td id=\"T_8af63_row10_col4\" class=\"data row10 col4\" >yes</td>\n",
              "    </tr>\n",
              "    <tr>\n",
              "      <th id=\"T_8af63_level0_row11\" class=\"row_heading level0 row11\" >11</th>\n",
              "      <td id=\"T_8af63_row11_col0\" class=\"data row11 col0\" >overcast</td>\n",
              "      <td id=\"T_8af63_row11_col1\" class=\"data row11 col1\" >mild</td>\n",
              "      <td id=\"T_8af63_row11_col2\" class=\"data row11 col2\" >high</td>\n",
              "      <td id=\"T_8af63_row11_col3\" class=\"data row11 col3\" >True</td>\n",
              "      <td id=\"T_8af63_row11_col4\" class=\"data row11 col4\" >yes</td>\n",
              "    </tr>\n",
              "    <tr>\n",
              "      <th id=\"T_8af63_level0_row12\" class=\"row_heading level0 row12\" >12</th>\n",
              "      <td id=\"T_8af63_row12_col0\" class=\"data row12 col0\" >overcast</td>\n",
              "      <td id=\"T_8af63_row12_col1\" class=\"data row12 col1\" >hot</td>\n",
              "      <td id=\"T_8af63_row12_col2\" class=\"data row12 col2\" >normal</td>\n",
              "      <td id=\"T_8af63_row12_col3\" class=\"data row12 col3\" >False</td>\n",
              "      <td id=\"T_8af63_row12_col4\" class=\"data row12 col4\" >yes</td>\n",
              "    </tr>\n",
              "    <tr>\n",
              "      <th id=\"T_8af63_level0_row13\" class=\"row_heading level0 row13\" >13</th>\n",
              "      <td id=\"T_8af63_row13_col0\" class=\"data row13 col0\" >rainy</td>\n",
              "      <td id=\"T_8af63_row13_col1\" class=\"data row13 col1\" >mild</td>\n",
              "      <td id=\"T_8af63_row13_col2\" class=\"data row13 col2\" >high</td>\n",
              "      <td id=\"T_8af63_row13_col3\" class=\"data row13 col3\" >True</td>\n",
              "      <td id=\"T_8af63_row13_col4\" class=\"data row13 col4\" >no</td>\n",
              "    </tr>\n",
              "  </tbody>\n",
              "</table>\n"
            ]
          },
          "metadata": {},
          "execution_count": 8
        }
      ]
    },
    {
      "cell_type": "code",
      "source": [
        "def find_entropy(data):\n",
        "    \"\"\"\n",
        "    Returns the entropy of the class or features\n",
        "    formula: - ∑ P(X)logP(X)\n",
        "    \"\"\"\n",
        "    entropy = 0\n",
        "    for i in range(data.nunique()):\n",
        "        x = data.value_counts()[i]/data.shape[0]\n",
        "        entropy += (- x * math.log(x,2))\n",
        "    return round(entropy,3)\n",
        "\n",
        "\n",
        "\n",
        "def information_gain(data, data_):\n",
        "    \"\"\"\n",
        "    Returns the information gain of the features\n",
        "    \"\"\"\n",
        "    info = 0\n",
        "    for i in range(data_.nunique()):\n",
        "        df = data[data_ == data_.unique()[i]]\n",
        "        w_avg = df.shape[0]/data.shape[0]\n",
        "        entropy = find_entropy(df.play)\n",
        "        x = w_avg * entropy\n",
        "        info += x\n",
        "    ig = find_entropy(data.play) - info\n",
        "    return round(ig, 3)\n",
        "\n",
        "def entropy_and_infogain(datax, feature):\n",
        "    \"\"\"\n",
        "    Grouping features with the same class and computing their\n",
        "    entropy and information gain for splitting\n",
        "    \"\"\"\n",
        "    for i in range(data[feature].nunique()):\n",
        "        df = datax[datax[feature]==data[feature].unique()[i]]\n",
        "        if df.shape[0] < 1:\n",
        "            continue\n",
        "\n",
        "        display(df[[feature, 'play']].style.applymap(highlight)\\\n",
        "                .set_properties(subset=[feature, 'play'], **{'width': '80px'})\\\n",
        "                .set_table_styles([{'selector': 'th', 'props': [('background-color', 'lightgray'),\n",
        "                                                                ('border', '1px solid gray'),\n",
        "                                                                ('font-weight', 'bold')]},\n",
        "                                   {'selector': 'td', 'props': [('border', '1px solid gray')]},\n",
        "                                   {'selector': 'tr:hover', 'props': [('background-color', 'white'),\n",
        "                                                                      ('border', '1.5px solid black')]}]))\n",
        "\n",
        "        print(f'Entropy of {feature} - {data[feature].unique()[i]} = {find_entropy(df.play)}')\n",
        "    print(f'Information Gain for {feature} = {information_gain(datax, datax[feature])}')"
      ],
      "metadata": {
        "id": "1LgXecSqgTSb"
      },
      "execution_count": 9,
      "outputs": []
    },
    {
      "cell_type": "code",
      "source": [
        "print(f'Entropy of the entire dataset: {find_entropy(data.play)}')"
      ],
      "metadata": {
        "colab": {
          "base_uri": "https://localhost:8080/"
        },
        "id": "eMlcidpRgj4f",
        "outputId": "76bcf2cb-6689-497e-d8dc-0d28b52dc424"
      },
      "execution_count": 10,
      "outputs": [
        {
          "output_type": "stream",
          "name": "stdout",
          "text": [
            "Entropy of the entire dataset: 0.94\n"
          ]
        }
      ]
    },
    {
      "cell_type": "code",
      "source": [
        "entropy_and_infogain(data,'outlook')"
      ],
      "metadata": {
        "colab": {
          "base_uri": "https://localhost:8080/",
          "height": 640
        },
        "id": "fi4Qtxu0gj7G",
        "outputId": "da524ddf-e1e1-4031-8f64-2cb25833cd08"
      },
      "execution_count": 11,
      "outputs": [
        {
          "output_type": "display_data",
          "data": {
            "text/plain": [
              "<pandas.io.formats.style.Styler at 0x7c50eb0cd360>"
            ],
            "text/html": [
              "<style type=\"text/css\">\n",
              "#T_451d2 th {\n",
              "  background-color: lightgray;\n",
              "  border: 1px solid gray;\n",
              "  font-weight: bold;\n",
              "}\n",
              "#T_451d2 td {\n",
              "  border: 1px solid gray;\n",
              "}\n",
              "#T_451d2 tr:hover {\n",
              "  background-color: white;\n",
              "  border: 1.5px solid black;\n",
              "}\n",
              "#T_451d2_row0_col0, #T_451d2_row1_col0, #T_451d2_row2_col0, #T_451d2_row3_col0, #T_451d2_row4_col0 {\n",
              "  width: 80px;\n",
              "}\n",
              "#T_451d2_row0_col1, #T_451d2_row1_col1, #T_451d2_row2_col1 {\n",
              "  background-color: pink;\n",
              "  width: 80px;\n",
              "}\n",
              "#T_451d2_row3_col1, #T_451d2_row4_col1 {\n",
              "  background-color: lightgreen;\n",
              "  width: 80px;\n",
              "}\n",
              "</style>\n",
              "<table id=\"T_451d2\" class=\"dataframe\">\n",
              "  <thead>\n",
              "    <tr>\n",
              "      <th class=\"blank level0\" >&nbsp;</th>\n",
              "      <th id=\"T_451d2_level0_col0\" class=\"col_heading level0 col0\" >outlook</th>\n",
              "      <th id=\"T_451d2_level0_col1\" class=\"col_heading level0 col1\" >play</th>\n",
              "    </tr>\n",
              "  </thead>\n",
              "  <tbody>\n",
              "    <tr>\n",
              "      <th id=\"T_451d2_level0_row0\" class=\"row_heading level0 row0\" >0</th>\n",
              "      <td id=\"T_451d2_row0_col0\" class=\"data row0 col0\" >sunny</td>\n",
              "      <td id=\"T_451d2_row0_col1\" class=\"data row0 col1\" >no</td>\n",
              "    </tr>\n",
              "    <tr>\n",
              "      <th id=\"T_451d2_level0_row1\" class=\"row_heading level0 row1\" >1</th>\n",
              "      <td id=\"T_451d2_row1_col0\" class=\"data row1 col0\" >sunny</td>\n",
              "      <td id=\"T_451d2_row1_col1\" class=\"data row1 col1\" >no</td>\n",
              "    </tr>\n",
              "    <tr>\n",
              "      <th id=\"T_451d2_level0_row2\" class=\"row_heading level0 row2\" >7</th>\n",
              "      <td id=\"T_451d2_row2_col0\" class=\"data row2 col0\" >sunny</td>\n",
              "      <td id=\"T_451d2_row2_col1\" class=\"data row2 col1\" >no</td>\n",
              "    </tr>\n",
              "    <tr>\n",
              "      <th id=\"T_451d2_level0_row3\" class=\"row_heading level0 row3\" >8</th>\n",
              "      <td id=\"T_451d2_row3_col0\" class=\"data row3 col0\" >sunny</td>\n",
              "      <td id=\"T_451d2_row3_col1\" class=\"data row3 col1\" >yes</td>\n",
              "    </tr>\n",
              "    <tr>\n",
              "      <th id=\"T_451d2_level0_row4\" class=\"row_heading level0 row4\" >10</th>\n",
              "      <td id=\"T_451d2_row4_col0\" class=\"data row4 col0\" >sunny</td>\n",
              "      <td id=\"T_451d2_row4_col1\" class=\"data row4 col1\" >yes</td>\n",
              "    </tr>\n",
              "  </tbody>\n",
              "</table>\n"
            ]
          },
          "metadata": {}
        },
        {
          "output_type": "stream",
          "name": "stdout",
          "text": [
            "Entropy of outlook - sunny = 0.971\n"
          ]
        },
        {
          "output_type": "display_data",
          "data": {
            "text/plain": [
              "<pandas.io.formats.style.Styler at 0x7c50eb0cd360>"
            ],
            "text/html": [
              "<style type=\"text/css\">\n",
              "#T_4cfc1 th {\n",
              "  background-color: lightgray;\n",
              "  border: 1px solid gray;\n",
              "  font-weight: bold;\n",
              "}\n",
              "#T_4cfc1 td {\n",
              "  border: 1px solid gray;\n",
              "}\n",
              "#T_4cfc1 tr:hover {\n",
              "  background-color: white;\n",
              "  border: 1.5px solid black;\n",
              "}\n",
              "#T_4cfc1_row0_col0, #T_4cfc1_row1_col0, #T_4cfc1_row2_col0, #T_4cfc1_row3_col0 {\n",
              "  width: 80px;\n",
              "}\n",
              "#T_4cfc1_row0_col1, #T_4cfc1_row1_col1, #T_4cfc1_row2_col1, #T_4cfc1_row3_col1 {\n",
              "  background-color: lightgreen;\n",
              "  width: 80px;\n",
              "}\n",
              "</style>\n",
              "<table id=\"T_4cfc1\" class=\"dataframe\">\n",
              "  <thead>\n",
              "    <tr>\n",
              "      <th class=\"blank level0\" >&nbsp;</th>\n",
              "      <th id=\"T_4cfc1_level0_col0\" class=\"col_heading level0 col0\" >outlook</th>\n",
              "      <th id=\"T_4cfc1_level0_col1\" class=\"col_heading level0 col1\" >play</th>\n",
              "    </tr>\n",
              "  </thead>\n",
              "  <tbody>\n",
              "    <tr>\n",
              "      <th id=\"T_4cfc1_level0_row0\" class=\"row_heading level0 row0\" >2</th>\n",
              "      <td id=\"T_4cfc1_row0_col0\" class=\"data row0 col0\" >overcast</td>\n",
              "      <td id=\"T_4cfc1_row0_col1\" class=\"data row0 col1\" >yes</td>\n",
              "    </tr>\n",
              "    <tr>\n",
              "      <th id=\"T_4cfc1_level0_row1\" class=\"row_heading level0 row1\" >6</th>\n",
              "      <td id=\"T_4cfc1_row1_col0\" class=\"data row1 col0\" >overcast</td>\n",
              "      <td id=\"T_4cfc1_row1_col1\" class=\"data row1 col1\" >yes</td>\n",
              "    </tr>\n",
              "    <tr>\n",
              "      <th id=\"T_4cfc1_level0_row2\" class=\"row_heading level0 row2\" >11</th>\n",
              "      <td id=\"T_4cfc1_row2_col0\" class=\"data row2 col0\" >overcast</td>\n",
              "      <td id=\"T_4cfc1_row2_col1\" class=\"data row2 col1\" >yes</td>\n",
              "    </tr>\n",
              "    <tr>\n",
              "      <th id=\"T_4cfc1_level0_row3\" class=\"row_heading level0 row3\" >12</th>\n",
              "      <td id=\"T_4cfc1_row3_col0\" class=\"data row3 col0\" >overcast</td>\n",
              "      <td id=\"T_4cfc1_row3_col1\" class=\"data row3 col1\" >yes</td>\n",
              "    </tr>\n",
              "  </tbody>\n",
              "</table>\n"
            ]
          },
          "metadata": {}
        },
        {
          "output_type": "stream",
          "name": "stdout",
          "text": [
            "Entropy of outlook - overcast = 0.0\n"
          ]
        },
        {
          "output_type": "display_data",
          "data": {
            "text/plain": [
              "<pandas.io.formats.style.Styler at 0x7c50eb0cd360>"
            ],
            "text/html": [
              "<style type=\"text/css\">\n",
              "#T_bf771 th {\n",
              "  background-color: lightgray;\n",
              "  border: 1px solid gray;\n",
              "  font-weight: bold;\n",
              "}\n",
              "#T_bf771 td {\n",
              "  border: 1px solid gray;\n",
              "}\n",
              "#T_bf771 tr:hover {\n",
              "  background-color: white;\n",
              "  border: 1.5px solid black;\n",
              "}\n",
              "#T_bf771_row0_col0, #T_bf771_row1_col0, #T_bf771_row2_col0, #T_bf771_row3_col0, #T_bf771_row4_col0 {\n",
              "  width: 80px;\n",
              "}\n",
              "#T_bf771_row0_col1, #T_bf771_row1_col1, #T_bf771_row3_col1 {\n",
              "  background-color: lightgreen;\n",
              "  width: 80px;\n",
              "}\n",
              "#T_bf771_row2_col1, #T_bf771_row4_col1 {\n",
              "  background-color: pink;\n",
              "  width: 80px;\n",
              "}\n",
              "</style>\n",
              "<table id=\"T_bf771\" class=\"dataframe\">\n",
              "  <thead>\n",
              "    <tr>\n",
              "      <th class=\"blank level0\" >&nbsp;</th>\n",
              "      <th id=\"T_bf771_level0_col0\" class=\"col_heading level0 col0\" >outlook</th>\n",
              "      <th id=\"T_bf771_level0_col1\" class=\"col_heading level0 col1\" >play</th>\n",
              "    </tr>\n",
              "  </thead>\n",
              "  <tbody>\n",
              "    <tr>\n",
              "      <th id=\"T_bf771_level0_row0\" class=\"row_heading level0 row0\" >3</th>\n",
              "      <td id=\"T_bf771_row0_col0\" class=\"data row0 col0\" >rainy</td>\n",
              "      <td id=\"T_bf771_row0_col1\" class=\"data row0 col1\" >yes</td>\n",
              "    </tr>\n",
              "    <tr>\n",
              "      <th id=\"T_bf771_level0_row1\" class=\"row_heading level0 row1\" >4</th>\n",
              "      <td id=\"T_bf771_row1_col0\" class=\"data row1 col0\" >rainy</td>\n",
              "      <td id=\"T_bf771_row1_col1\" class=\"data row1 col1\" >yes</td>\n",
              "    </tr>\n",
              "    <tr>\n",
              "      <th id=\"T_bf771_level0_row2\" class=\"row_heading level0 row2\" >5</th>\n",
              "      <td id=\"T_bf771_row2_col0\" class=\"data row2 col0\" >rainy</td>\n",
              "      <td id=\"T_bf771_row2_col1\" class=\"data row2 col1\" >no</td>\n",
              "    </tr>\n",
              "    <tr>\n",
              "      <th id=\"T_bf771_level0_row3\" class=\"row_heading level0 row3\" >9</th>\n",
              "      <td id=\"T_bf771_row3_col0\" class=\"data row3 col0\" >rainy</td>\n",
              "      <td id=\"T_bf771_row3_col1\" class=\"data row3 col1\" >yes</td>\n",
              "    </tr>\n",
              "    <tr>\n",
              "      <th id=\"T_bf771_level0_row4\" class=\"row_heading level0 row4\" >13</th>\n",
              "      <td id=\"T_bf771_row4_col0\" class=\"data row4 col0\" >rainy</td>\n",
              "      <td id=\"T_bf771_row4_col1\" class=\"data row4 col1\" >no</td>\n",
              "    </tr>\n",
              "  </tbody>\n",
              "</table>\n"
            ]
          },
          "metadata": {}
        },
        {
          "output_type": "stream",
          "name": "stdout",
          "text": [
            "Entropy of outlook - rainy = 0.971\n",
            "Information Gain for outlook = 0.246\n"
          ]
        }
      ]
    },
    {
      "cell_type": "code",
      "source": [
        "entropy_and_infogain(data, 'temp')"
      ],
      "metadata": {
        "colab": {
          "base_uri": "https://localhost:8080/",
          "height": 640
        },
        "id": "SfVd-lcViPGs",
        "outputId": "b6ae417d-5ea1-47c0-f7e1-6106b95b4917"
      },
      "execution_count": 12,
      "outputs": [
        {
          "output_type": "display_data",
          "data": {
            "text/plain": [
              "<pandas.io.formats.style.Styler at 0x7c50eb0cca00>"
            ],
            "text/html": [
              "<style type=\"text/css\">\n",
              "#T_52715 th {\n",
              "  background-color: lightgray;\n",
              "  border: 1px solid gray;\n",
              "  font-weight: bold;\n",
              "}\n",
              "#T_52715 td {\n",
              "  border: 1px solid gray;\n",
              "}\n",
              "#T_52715 tr:hover {\n",
              "  background-color: white;\n",
              "  border: 1.5px solid black;\n",
              "}\n",
              "#T_52715_row0_col0, #T_52715_row1_col0, #T_52715_row2_col0, #T_52715_row3_col0 {\n",
              "  width: 80px;\n",
              "}\n",
              "#T_52715_row0_col1, #T_52715_row1_col1 {\n",
              "  background-color: pink;\n",
              "  width: 80px;\n",
              "}\n",
              "#T_52715_row2_col1, #T_52715_row3_col1 {\n",
              "  background-color: lightgreen;\n",
              "  width: 80px;\n",
              "}\n",
              "</style>\n",
              "<table id=\"T_52715\" class=\"dataframe\">\n",
              "  <thead>\n",
              "    <tr>\n",
              "      <th class=\"blank level0\" >&nbsp;</th>\n",
              "      <th id=\"T_52715_level0_col0\" class=\"col_heading level0 col0\" >temp</th>\n",
              "      <th id=\"T_52715_level0_col1\" class=\"col_heading level0 col1\" >play</th>\n",
              "    </tr>\n",
              "  </thead>\n",
              "  <tbody>\n",
              "    <tr>\n",
              "      <th id=\"T_52715_level0_row0\" class=\"row_heading level0 row0\" >0</th>\n",
              "      <td id=\"T_52715_row0_col0\" class=\"data row0 col0\" >hot</td>\n",
              "      <td id=\"T_52715_row0_col1\" class=\"data row0 col1\" >no</td>\n",
              "    </tr>\n",
              "    <tr>\n",
              "      <th id=\"T_52715_level0_row1\" class=\"row_heading level0 row1\" >1</th>\n",
              "      <td id=\"T_52715_row1_col0\" class=\"data row1 col0\" >hot</td>\n",
              "      <td id=\"T_52715_row1_col1\" class=\"data row1 col1\" >no</td>\n",
              "    </tr>\n",
              "    <tr>\n",
              "      <th id=\"T_52715_level0_row2\" class=\"row_heading level0 row2\" >2</th>\n",
              "      <td id=\"T_52715_row2_col0\" class=\"data row2 col0\" >hot</td>\n",
              "      <td id=\"T_52715_row2_col1\" class=\"data row2 col1\" >yes</td>\n",
              "    </tr>\n",
              "    <tr>\n",
              "      <th id=\"T_52715_level0_row3\" class=\"row_heading level0 row3\" >12</th>\n",
              "      <td id=\"T_52715_row3_col0\" class=\"data row3 col0\" >hot</td>\n",
              "      <td id=\"T_52715_row3_col1\" class=\"data row3 col1\" >yes</td>\n",
              "    </tr>\n",
              "  </tbody>\n",
              "</table>\n"
            ]
          },
          "metadata": {}
        },
        {
          "output_type": "stream",
          "name": "stdout",
          "text": [
            "Entropy of temp - hot = 1.0\n"
          ]
        },
        {
          "output_type": "display_data",
          "data": {
            "text/plain": [
              "<pandas.io.formats.style.Styler at 0x7c50eb0cca00>"
            ],
            "text/html": [
              "<style type=\"text/css\">\n",
              "#T_bdb39 th {\n",
              "  background-color: lightgray;\n",
              "  border: 1px solid gray;\n",
              "  font-weight: bold;\n",
              "}\n",
              "#T_bdb39 td {\n",
              "  border: 1px solid gray;\n",
              "}\n",
              "#T_bdb39 tr:hover {\n",
              "  background-color: white;\n",
              "  border: 1.5px solid black;\n",
              "}\n",
              "#T_bdb39_row0_col0, #T_bdb39_row1_col0, #T_bdb39_row2_col0, #T_bdb39_row3_col0, #T_bdb39_row4_col0, #T_bdb39_row5_col0 {\n",
              "  width: 80px;\n",
              "}\n",
              "#T_bdb39_row0_col1, #T_bdb39_row2_col1, #T_bdb39_row3_col1, #T_bdb39_row4_col1 {\n",
              "  background-color: lightgreen;\n",
              "  width: 80px;\n",
              "}\n",
              "#T_bdb39_row1_col1, #T_bdb39_row5_col1 {\n",
              "  background-color: pink;\n",
              "  width: 80px;\n",
              "}\n",
              "</style>\n",
              "<table id=\"T_bdb39\" class=\"dataframe\">\n",
              "  <thead>\n",
              "    <tr>\n",
              "      <th class=\"blank level0\" >&nbsp;</th>\n",
              "      <th id=\"T_bdb39_level0_col0\" class=\"col_heading level0 col0\" >temp</th>\n",
              "      <th id=\"T_bdb39_level0_col1\" class=\"col_heading level0 col1\" >play</th>\n",
              "    </tr>\n",
              "  </thead>\n",
              "  <tbody>\n",
              "    <tr>\n",
              "      <th id=\"T_bdb39_level0_row0\" class=\"row_heading level0 row0\" >3</th>\n",
              "      <td id=\"T_bdb39_row0_col0\" class=\"data row0 col0\" >mild</td>\n",
              "      <td id=\"T_bdb39_row0_col1\" class=\"data row0 col1\" >yes</td>\n",
              "    </tr>\n",
              "    <tr>\n",
              "      <th id=\"T_bdb39_level0_row1\" class=\"row_heading level0 row1\" >7</th>\n",
              "      <td id=\"T_bdb39_row1_col0\" class=\"data row1 col0\" >mild</td>\n",
              "      <td id=\"T_bdb39_row1_col1\" class=\"data row1 col1\" >no</td>\n",
              "    </tr>\n",
              "    <tr>\n",
              "      <th id=\"T_bdb39_level0_row2\" class=\"row_heading level0 row2\" >9</th>\n",
              "      <td id=\"T_bdb39_row2_col0\" class=\"data row2 col0\" >mild</td>\n",
              "      <td id=\"T_bdb39_row2_col1\" class=\"data row2 col1\" >yes</td>\n",
              "    </tr>\n",
              "    <tr>\n",
              "      <th id=\"T_bdb39_level0_row3\" class=\"row_heading level0 row3\" >10</th>\n",
              "      <td id=\"T_bdb39_row3_col0\" class=\"data row3 col0\" >mild</td>\n",
              "      <td id=\"T_bdb39_row3_col1\" class=\"data row3 col1\" >yes</td>\n",
              "    </tr>\n",
              "    <tr>\n",
              "      <th id=\"T_bdb39_level0_row4\" class=\"row_heading level0 row4\" >11</th>\n",
              "      <td id=\"T_bdb39_row4_col0\" class=\"data row4 col0\" >mild</td>\n",
              "      <td id=\"T_bdb39_row4_col1\" class=\"data row4 col1\" >yes</td>\n",
              "    </tr>\n",
              "    <tr>\n",
              "      <th id=\"T_bdb39_level0_row5\" class=\"row_heading level0 row5\" >13</th>\n",
              "      <td id=\"T_bdb39_row5_col0\" class=\"data row5 col0\" >mild</td>\n",
              "      <td id=\"T_bdb39_row5_col1\" class=\"data row5 col1\" >no</td>\n",
              "    </tr>\n",
              "  </tbody>\n",
              "</table>\n"
            ]
          },
          "metadata": {}
        },
        {
          "output_type": "stream",
          "name": "stdout",
          "text": [
            "Entropy of temp - mild = 0.918\n"
          ]
        },
        {
          "output_type": "display_data",
          "data": {
            "text/plain": [
              "<pandas.io.formats.style.Styler at 0x7c50eb0cca00>"
            ],
            "text/html": [
              "<style type=\"text/css\">\n",
              "#T_b95a5 th {\n",
              "  background-color: lightgray;\n",
              "  border: 1px solid gray;\n",
              "  font-weight: bold;\n",
              "}\n",
              "#T_b95a5 td {\n",
              "  border: 1px solid gray;\n",
              "}\n",
              "#T_b95a5 tr:hover {\n",
              "  background-color: white;\n",
              "  border: 1.5px solid black;\n",
              "}\n",
              "#T_b95a5_row0_col0, #T_b95a5_row1_col0, #T_b95a5_row2_col0, #T_b95a5_row3_col0 {\n",
              "  width: 80px;\n",
              "}\n",
              "#T_b95a5_row0_col1, #T_b95a5_row2_col1, #T_b95a5_row3_col1 {\n",
              "  background-color: lightgreen;\n",
              "  width: 80px;\n",
              "}\n",
              "#T_b95a5_row1_col1 {\n",
              "  background-color: pink;\n",
              "  width: 80px;\n",
              "}\n",
              "</style>\n",
              "<table id=\"T_b95a5\" class=\"dataframe\">\n",
              "  <thead>\n",
              "    <tr>\n",
              "      <th class=\"blank level0\" >&nbsp;</th>\n",
              "      <th id=\"T_b95a5_level0_col0\" class=\"col_heading level0 col0\" >temp</th>\n",
              "      <th id=\"T_b95a5_level0_col1\" class=\"col_heading level0 col1\" >play</th>\n",
              "    </tr>\n",
              "  </thead>\n",
              "  <tbody>\n",
              "    <tr>\n",
              "      <th id=\"T_b95a5_level0_row0\" class=\"row_heading level0 row0\" >4</th>\n",
              "      <td id=\"T_b95a5_row0_col0\" class=\"data row0 col0\" >cool</td>\n",
              "      <td id=\"T_b95a5_row0_col1\" class=\"data row0 col1\" >yes</td>\n",
              "    </tr>\n",
              "    <tr>\n",
              "      <th id=\"T_b95a5_level0_row1\" class=\"row_heading level0 row1\" >5</th>\n",
              "      <td id=\"T_b95a5_row1_col0\" class=\"data row1 col0\" >cool</td>\n",
              "      <td id=\"T_b95a5_row1_col1\" class=\"data row1 col1\" >no</td>\n",
              "    </tr>\n",
              "    <tr>\n",
              "      <th id=\"T_b95a5_level0_row2\" class=\"row_heading level0 row2\" >6</th>\n",
              "      <td id=\"T_b95a5_row2_col0\" class=\"data row2 col0\" >cool</td>\n",
              "      <td id=\"T_b95a5_row2_col1\" class=\"data row2 col1\" >yes</td>\n",
              "    </tr>\n",
              "    <tr>\n",
              "      <th id=\"T_b95a5_level0_row3\" class=\"row_heading level0 row3\" >8</th>\n",
              "      <td id=\"T_b95a5_row3_col0\" class=\"data row3 col0\" >cool</td>\n",
              "      <td id=\"T_b95a5_row3_col1\" class=\"data row3 col1\" >yes</td>\n",
              "    </tr>\n",
              "  </tbody>\n",
              "</table>\n"
            ]
          },
          "metadata": {}
        },
        {
          "output_type": "stream",
          "name": "stdout",
          "text": [
            "Entropy of temp - cool = 0.811\n",
            "Information Gain for temp = 0.029\n"
          ]
        }
      ]
    },
    {
      "cell_type": "code",
      "source": [
        "entropy_and_infogain(data, 'humidity')"
      ],
      "metadata": {
        "colab": {
          "base_uri": "https://localhost:8080/",
          "height": 589
        },
        "id": "iuEhyDomiVDM",
        "outputId": "4b421983-319f-492c-848d-9f5964e6b38c"
      },
      "execution_count": 13,
      "outputs": [
        {
          "output_type": "display_data",
          "data": {
            "text/plain": [
              "<pandas.io.formats.style.Styler at 0x7c50eb0cecb0>"
            ],
            "text/html": [
              "<style type=\"text/css\">\n",
              "#T_a2d32 th {\n",
              "  background-color: lightgray;\n",
              "  border: 1px solid gray;\n",
              "  font-weight: bold;\n",
              "}\n",
              "#T_a2d32 td {\n",
              "  border: 1px solid gray;\n",
              "}\n",
              "#T_a2d32 tr:hover {\n",
              "  background-color: white;\n",
              "  border: 1.5px solid black;\n",
              "}\n",
              "#T_a2d32_row0_col0, #T_a2d32_row1_col0, #T_a2d32_row2_col0, #T_a2d32_row3_col0, #T_a2d32_row4_col0, #T_a2d32_row5_col0, #T_a2d32_row6_col0 {\n",
              "  width: 80px;\n",
              "}\n",
              "#T_a2d32_row0_col1, #T_a2d32_row1_col1, #T_a2d32_row4_col1, #T_a2d32_row6_col1 {\n",
              "  background-color: pink;\n",
              "  width: 80px;\n",
              "}\n",
              "#T_a2d32_row2_col1, #T_a2d32_row3_col1, #T_a2d32_row5_col1 {\n",
              "  background-color: lightgreen;\n",
              "  width: 80px;\n",
              "}\n",
              "</style>\n",
              "<table id=\"T_a2d32\" class=\"dataframe\">\n",
              "  <thead>\n",
              "    <tr>\n",
              "      <th class=\"blank level0\" >&nbsp;</th>\n",
              "      <th id=\"T_a2d32_level0_col0\" class=\"col_heading level0 col0\" >humidity</th>\n",
              "      <th id=\"T_a2d32_level0_col1\" class=\"col_heading level0 col1\" >play</th>\n",
              "    </tr>\n",
              "  </thead>\n",
              "  <tbody>\n",
              "    <tr>\n",
              "      <th id=\"T_a2d32_level0_row0\" class=\"row_heading level0 row0\" >0</th>\n",
              "      <td id=\"T_a2d32_row0_col0\" class=\"data row0 col0\" >high</td>\n",
              "      <td id=\"T_a2d32_row0_col1\" class=\"data row0 col1\" >no</td>\n",
              "    </tr>\n",
              "    <tr>\n",
              "      <th id=\"T_a2d32_level0_row1\" class=\"row_heading level0 row1\" >1</th>\n",
              "      <td id=\"T_a2d32_row1_col0\" class=\"data row1 col0\" >high</td>\n",
              "      <td id=\"T_a2d32_row1_col1\" class=\"data row1 col1\" >no</td>\n",
              "    </tr>\n",
              "    <tr>\n",
              "      <th id=\"T_a2d32_level0_row2\" class=\"row_heading level0 row2\" >2</th>\n",
              "      <td id=\"T_a2d32_row2_col0\" class=\"data row2 col0\" >high</td>\n",
              "      <td id=\"T_a2d32_row2_col1\" class=\"data row2 col1\" >yes</td>\n",
              "    </tr>\n",
              "    <tr>\n",
              "      <th id=\"T_a2d32_level0_row3\" class=\"row_heading level0 row3\" >3</th>\n",
              "      <td id=\"T_a2d32_row3_col0\" class=\"data row3 col0\" >high</td>\n",
              "      <td id=\"T_a2d32_row3_col1\" class=\"data row3 col1\" >yes</td>\n",
              "    </tr>\n",
              "    <tr>\n",
              "      <th id=\"T_a2d32_level0_row4\" class=\"row_heading level0 row4\" >7</th>\n",
              "      <td id=\"T_a2d32_row4_col0\" class=\"data row4 col0\" >high</td>\n",
              "      <td id=\"T_a2d32_row4_col1\" class=\"data row4 col1\" >no</td>\n",
              "    </tr>\n",
              "    <tr>\n",
              "      <th id=\"T_a2d32_level0_row5\" class=\"row_heading level0 row5\" >11</th>\n",
              "      <td id=\"T_a2d32_row5_col0\" class=\"data row5 col0\" >high</td>\n",
              "      <td id=\"T_a2d32_row5_col1\" class=\"data row5 col1\" >yes</td>\n",
              "    </tr>\n",
              "    <tr>\n",
              "      <th id=\"T_a2d32_level0_row6\" class=\"row_heading level0 row6\" >13</th>\n",
              "      <td id=\"T_a2d32_row6_col0\" class=\"data row6 col0\" >high</td>\n",
              "      <td id=\"T_a2d32_row6_col1\" class=\"data row6 col1\" >no</td>\n",
              "    </tr>\n",
              "  </tbody>\n",
              "</table>\n"
            ]
          },
          "metadata": {}
        },
        {
          "output_type": "stream",
          "name": "stdout",
          "text": [
            "Entropy of humidity - high = 0.985\n"
          ]
        },
        {
          "output_type": "display_data",
          "data": {
            "text/plain": [
              "<pandas.io.formats.style.Styler at 0x7c50eb1ffca0>"
            ],
            "text/html": [
              "<style type=\"text/css\">\n",
              "#T_c9b5f th {\n",
              "  background-color: lightgray;\n",
              "  border: 1px solid gray;\n",
              "  font-weight: bold;\n",
              "}\n",
              "#T_c9b5f td {\n",
              "  border: 1px solid gray;\n",
              "}\n",
              "#T_c9b5f tr:hover {\n",
              "  background-color: white;\n",
              "  border: 1.5px solid black;\n",
              "}\n",
              "#T_c9b5f_row0_col0, #T_c9b5f_row1_col0, #T_c9b5f_row2_col0, #T_c9b5f_row3_col0, #T_c9b5f_row4_col0, #T_c9b5f_row5_col0, #T_c9b5f_row6_col0 {\n",
              "  width: 80px;\n",
              "}\n",
              "#T_c9b5f_row0_col1, #T_c9b5f_row2_col1, #T_c9b5f_row3_col1, #T_c9b5f_row4_col1, #T_c9b5f_row5_col1, #T_c9b5f_row6_col1 {\n",
              "  background-color: lightgreen;\n",
              "  width: 80px;\n",
              "}\n",
              "#T_c9b5f_row1_col1 {\n",
              "  background-color: pink;\n",
              "  width: 80px;\n",
              "}\n",
              "</style>\n",
              "<table id=\"T_c9b5f\" class=\"dataframe\">\n",
              "  <thead>\n",
              "    <tr>\n",
              "      <th class=\"blank level0\" >&nbsp;</th>\n",
              "      <th id=\"T_c9b5f_level0_col0\" class=\"col_heading level0 col0\" >humidity</th>\n",
              "      <th id=\"T_c9b5f_level0_col1\" class=\"col_heading level0 col1\" >play</th>\n",
              "    </tr>\n",
              "  </thead>\n",
              "  <tbody>\n",
              "    <tr>\n",
              "      <th id=\"T_c9b5f_level0_row0\" class=\"row_heading level0 row0\" >4</th>\n",
              "      <td id=\"T_c9b5f_row0_col0\" class=\"data row0 col0\" >normal</td>\n",
              "      <td id=\"T_c9b5f_row0_col1\" class=\"data row0 col1\" >yes</td>\n",
              "    </tr>\n",
              "    <tr>\n",
              "      <th id=\"T_c9b5f_level0_row1\" class=\"row_heading level0 row1\" >5</th>\n",
              "      <td id=\"T_c9b5f_row1_col0\" class=\"data row1 col0\" >normal</td>\n",
              "      <td id=\"T_c9b5f_row1_col1\" class=\"data row1 col1\" >no</td>\n",
              "    </tr>\n",
              "    <tr>\n",
              "      <th id=\"T_c9b5f_level0_row2\" class=\"row_heading level0 row2\" >6</th>\n",
              "      <td id=\"T_c9b5f_row2_col0\" class=\"data row2 col0\" >normal</td>\n",
              "      <td id=\"T_c9b5f_row2_col1\" class=\"data row2 col1\" >yes</td>\n",
              "    </tr>\n",
              "    <tr>\n",
              "      <th id=\"T_c9b5f_level0_row3\" class=\"row_heading level0 row3\" >8</th>\n",
              "      <td id=\"T_c9b5f_row3_col0\" class=\"data row3 col0\" >normal</td>\n",
              "      <td id=\"T_c9b5f_row3_col1\" class=\"data row3 col1\" >yes</td>\n",
              "    </tr>\n",
              "    <tr>\n",
              "      <th id=\"T_c9b5f_level0_row4\" class=\"row_heading level0 row4\" >9</th>\n",
              "      <td id=\"T_c9b5f_row4_col0\" class=\"data row4 col0\" >normal</td>\n",
              "      <td id=\"T_c9b5f_row4_col1\" class=\"data row4 col1\" >yes</td>\n",
              "    </tr>\n",
              "    <tr>\n",
              "      <th id=\"T_c9b5f_level0_row5\" class=\"row_heading level0 row5\" >10</th>\n",
              "      <td id=\"T_c9b5f_row5_col0\" class=\"data row5 col0\" >normal</td>\n",
              "      <td id=\"T_c9b5f_row5_col1\" class=\"data row5 col1\" >yes</td>\n",
              "    </tr>\n",
              "    <tr>\n",
              "      <th id=\"T_c9b5f_level0_row6\" class=\"row_heading level0 row6\" >12</th>\n",
              "      <td id=\"T_c9b5f_row6_col0\" class=\"data row6 col0\" >normal</td>\n",
              "      <td id=\"T_c9b5f_row6_col1\" class=\"data row6 col1\" >yes</td>\n",
              "    </tr>\n",
              "  </tbody>\n",
              "</table>\n"
            ]
          },
          "metadata": {}
        },
        {
          "output_type": "stream",
          "name": "stdout",
          "text": [
            "Entropy of humidity - normal = 0.592\n",
            "Information Gain for humidity = 0.151\n"
          ]
        }
      ]
    },
    {
      "cell_type": "code",
      "source": [
        "entropy_and_infogain(data, 'windy')"
      ],
      "metadata": {
        "colab": {
          "base_uri": "https://localhost:8080/",
          "height": 589
        },
        "id": "bZ7LI-TyiVF0",
        "outputId": "363736de-4497-4667-8438-5275a51f5adc"
      },
      "execution_count": 14,
      "outputs": [
        {
          "output_type": "display_data",
          "data": {
            "text/plain": [
              "<pandas.io.formats.style.Styler at 0x7c50eb0cf2e0>"
            ],
            "text/html": [
              "<style type=\"text/css\">\n",
              "#T_b9251 th {\n",
              "  background-color: lightgray;\n",
              "  border: 1px solid gray;\n",
              "  font-weight: bold;\n",
              "}\n",
              "#T_b9251 td {\n",
              "  border: 1px solid gray;\n",
              "}\n",
              "#T_b9251 tr:hover {\n",
              "  background-color: white;\n",
              "  border: 1.5px solid black;\n",
              "}\n",
              "#T_b9251_row0_col0, #T_b9251_row1_col0, #T_b9251_row2_col0, #T_b9251_row3_col0, #T_b9251_row4_col0, #T_b9251_row5_col0, #T_b9251_row6_col0, #T_b9251_row7_col0 {\n",
              "  width: 80px;\n",
              "}\n",
              "#T_b9251_row0_col1, #T_b9251_row4_col1 {\n",
              "  background-color: pink;\n",
              "  width: 80px;\n",
              "}\n",
              "#T_b9251_row1_col1, #T_b9251_row2_col1, #T_b9251_row3_col1, #T_b9251_row5_col1, #T_b9251_row6_col1, #T_b9251_row7_col1 {\n",
              "  background-color: lightgreen;\n",
              "  width: 80px;\n",
              "}\n",
              "</style>\n",
              "<table id=\"T_b9251\" class=\"dataframe\">\n",
              "  <thead>\n",
              "    <tr>\n",
              "      <th class=\"blank level0\" >&nbsp;</th>\n",
              "      <th id=\"T_b9251_level0_col0\" class=\"col_heading level0 col0\" >windy</th>\n",
              "      <th id=\"T_b9251_level0_col1\" class=\"col_heading level0 col1\" >play</th>\n",
              "    </tr>\n",
              "  </thead>\n",
              "  <tbody>\n",
              "    <tr>\n",
              "      <th id=\"T_b9251_level0_row0\" class=\"row_heading level0 row0\" >0</th>\n",
              "      <td id=\"T_b9251_row0_col0\" class=\"data row0 col0\" >False</td>\n",
              "      <td id=\"T_b9251_row0_col1\" class=\"data row0 col1\" >no</td>\n",
              "    </tr>\n",
              "    <tr>\n",
              "      <th id=\"T_b9251_level0_row1\" class=\"row_heading level0 row1\" >2</th>\n",
              "      <td id=\"T_b9251_row1_col0\" class=\"data row1 col0\" >False</td>\n",
              "      <td id=\"T_b9251_row1_col1\" class=\"data row1 col1\" >yes</td>\n",
              "    </tr>\n",
              "    <tr>\n",
              "      <th id=\"T_b9251_level0_row2\" class=\"row_heading level0 row2\" >3</th>\n",
              "      <td id=\"T_b9251_row2_col0\" class=\"data row2 col0\" >False</td>\n",
              "      <td id=\"T_b9251_row2_col1\" class=\"data row2 col1\" >yes</td>\n",
              "    </tr>\n",
              "    <tr>\n",
              "      <th id=\"T_b9251_level0_row3\" class=\"row_heading level0 row3\" >4</th>\n",
              "      <td id=\"T_b9251_row3_col0\" class=\"data row3 col0\" >False</td>\n",
              "      <td id=\"T_b9251_row3_col1\" class=\"data row3 col1\" >yes</td>\n",
              "    </tr>\n",
              "    <tr>\n",
              "      <th id=\"T_b9251_level0_row4\" class=\"row_heading level0 row4\" >7</th>\n",
              "      <td id=\"T_b9251_row4_col0\" class=\"data row4 col0\" >False</td>\n",
              "      <td id=\"T_b9251_row4_col1\" class=\"data row4 col1\" >no</td>\n",
              "    </tr>\n",
              "    <tr>\n",
              "      <th id=\"T_b9251_level0_row5\" class=\"row_heading level0 row5\" >8</th>\n",
              "      <td id=\"T_b9251_row5_col0\" class=\"data row5 col0\" >False</td>\n",
              "      <td id=\"T_b9251_row5_col1\" class=\"data row5 col1\" >yes</td>\n",
              "    </tr>\n",
              "    <tr>\n",
              "      <th id=\"T_b9251_level0_row6\" class=\"row_heading level0 row6\" >9</th>\n",
              "      <td id=\"T_b9251_row6_col0\" class=\"data row6 col0\" >False</td>\n",
              "      <td id=\"T_b9251_row6_col1\" class=\"data row6 col1\" >yes</td>\n",
              "    </tr>\n",
              "    <tr>\n",
              "      <th id=\"T_b9251_level0_row7\" class=\"row_heading level0 row7\" >12</th>\n",
              "      <td id=\"T_b9251_row7_col0\" class=\"data row7 col0\" >False</td>\n",
              "      <td id=\"T_b9251_row7_col1\" class=\"data row7 col1\" >yes</td>\n",
              "    </tr>\n",
              "  </tbody>\n",
              "</table>\n"
            ]
          },
          "metadata": {}
        },
        {
          "output_type": "stream",
          "name": "stdout",
          "text": [
            "Entropy of windy - False = 0.811\n"
          ]
        },
        {
          "output_type": "display_data",
          "data": {
            "text/plain": [
              "<pandas.io.formats.style.Styler at 0x7c50eb0cc370>"
            ],
            "text/html": [
              "<style type=\"text/css\">\n",
              "#T_543aa th {\n",
              "  background-color: lightgray;\n",
              "  border: 1px solid gray;\n",
              "  font-weight: bold;\n",
              "}\n",
              "#T_543aa td {\n",
              "  border: 1px solid gray;\n",
              "}\n",
              "#T_543aa tr:hover {\n",
              "  background-color: white;\n",
              "  border: 1.5px solid black;\n",
              "}\n",
              "#T_543aa_row0_col0, #T_543aa_row1_col0, #T_543aa_row2_col0, #T_543aa_row3_col0, #T_543aa_row4_col0, #T_543aa_row5_col0 {\n",
              "  width: 80px;\n",
              "}\n",
              "#T_543aa_row0_col1, #T_543aa_row1_col1, #T_543aa_row5_col1 {\n",
              "  background-color: pink;\n",
              "  width: 80px;\n",
              "}\n",
              "#T_543aa_row2_col1, #T_543aa_row3_col1, #T_543aa_row4_col1 {\n",
              "  background-color: lightgreen;\n",
              "  width: 80px;\n",
              "}\n",
              "</style>\n",
              "<table id=\"T_543aa\" class=\"dataframe\">\n",
              "  <thead>\n",
              "    <tr>\n",
              "      <th class=\"blank level0\" >&nbsp;</th>\n",
              "      <th id=\"T_543aa_level0_col0\" class=\"col_heading level0 col0\" >windy</th>\n",
              "      <th id=\"T_543aa_level0_col1\" class=\"col_heading level0 col1\" >play</th>\n",
              "    </tr>\n",
              "  </thead>\n",
              "  <tbody>\n",
              "    <tr>\n",
              "      <th id=\"T_543aa_level0_row0\" class=\"row_heading level0 row0\" >1</th>\n",
              "      <td id=\"T_543aa_row0_col0\" class=\"data row0 col0\" >True</td>\n",
              "      <td id=\"T_543aa_row0_col1\" class=\"data row0 col1\" >no</td>\n",
              "    </tr>\n",
              "    <tr>\n",
              "      <th id=\"T_543aa_level0_row1\" class=\"row_heading level0 row1\" >5</th>\n",
              "      <td id=\"T_543aa_row1_col0\" class=\"data row1 col0\" >True</td>\n",
              "      <td id=\"T_543aa_row1_col1\" class=\"data row1 col1\" >no</td>\n",
              "    </tr>\n",
              "    <tr>\n",
              "      <th id=\"T_543aa_level0_row2\" class=\"row_heading level0 row2\" >6</th>\n",
              "      <td id=\"T_543aa_row2_col0\" class=\"data row2 col0\" >True</td>\n",
              "      <td id=\"T_543aa_row2_col1\" class=\"data row2 col1\" >yes</td>\n",
              "    </tr>\n",
              "    <tr>\n",
              "      <th id=\"T_543aa_level0_row3\" class=\"row_heading level0 row3\" >10</th>\n",
              "      <td id=\"T_543aa_row3_col0\" class=\"data row3 col0\" >True</td>\n",
              "      <td id=\"T_543aa_row3_col1\" class=\"data row3 col1\" >yes</td>\n",
              "    </tr>\n",
              "    <tr>\n",
              "      <th id=\"T_543aa_level0_row4\" class=\"row_heading level0 row4\" >11</th>\n",
              "      <td id=\"T_543aa_row4_col0\" class=\"data row4 col0\" >True</td>\n",
              "      <td id=\"T_543aa_row4_col1\" class=\"data row4 col1\" >yes</td>\n",
              "    </tr>\n",
              "    <tr>\n",
              "      <th id=\"T_543aa_level0_row5\" class=\"row_heading level0 row5\" >13</th>\n",
              "      <td id=\"T_543aa_row5_col0\" class=\"data row5 col0\" >True</td>\n",
              "      <td id=\"T_543aa_row5_col1\" class=\"data row5 col1\" >no</td>\n",
              "    </tr>\n",
              "  </tbody>\n",
              "</table>\n"
            ]
          },
          "metadata": {}
        },
        {
          "output_type": "stream",
          "name": "stdout",
          "text": [
            "Entropy of windy - True = 1.0\n",
            "Information Gain for windy = 0.048\n"
          ]
        }
      ]
    },
    {
      "cell_type": "code",
      "source": [
        "sunny = data[data['outlook'] == 'sunny']\n",
        "sunny.style.applymap(highlight)\\\n",
        "    .set_properties(subset=data.columns, **{'width': '100px'})\\\n",
        "    .set_table_styles([{'selector': 'th', 'props': [('background-color', 'lightgray'), ('border', '1px solid gray'),\n",
        "                                                    ('font-weight', 'bold')]},\n",
        "     {'selector': 'tr:hover', 'props': [('background-color', 'white'), ('border', '1.5px solid black')]}])"
      ],
      "metadata": {
        "colab": {
          "base_uri": "https://localhost:8080/",
          "height": 212
        },
        "id": "r4dgV5nWieVS",
        "outputId": "1584e917-a02a-4289-fe3c-3a1b25698c5b"
      },
      "execution_count": 15,
      "outputs": [
        {
          "output_type": "execute_result",
          "data": {
            "text/plain": [
              "<pandas.io.formats.style.Styler at 0x7c50eb0cf2e0>"
            ],
            "text/html": [
              "<style type=\"text/css\">\n",
              "#T_e8a42 th {\n",
              "  background-color: lightgray;\n",
              "  border: 1px solid gray;\n",
              "  font-weight: bold;\n",
              "}\n",
              "#T_e8a42 tr:hover {\n",
              "  background-color: white;\n",
              "  border: 1.5px solid black;\n",
              "}\n",
              "#T_e8a42_row0_col0, #T_e8a42_row0_col1, #T_e8a42_row0_col2, #T_e8a42_row0_col3, #T_e8a42_row1_col0, #T_e8a42_row1_col1, #T_e8a42_row1_col2, #T_e8a42_row1_col3, #T_e8a42_row2_col0, #T_e8a42_row2_col1, #T_e8a42_row2_col2, #T_e8a42_row2_col3, #T_e8a42_row3_col0, #T_e8a42_row3_col1, #T_e8a42_row3_col2, #T_e8a42_row3_col3, #T_e8a42_row4_col0, #T_e8a42_row4_col1, #T_e8a42_row4_col2, #T_e8a42_row4_col3 {\n",
              "  width: 100px;\n",
              "}\n",
              "#T_e8a42_row0_col4, #T_e8a42_row1_col4, #T_e8a42_row2_col4 {\n",
              "  background-color: pink;\n",
              "  width: 100px;\n",
              "}\n",
              "#T_e8a42_row3_col4, #T_e8a42_row4_col4 {\n",
              "  background-color: lightgreen;\n",
              "  width: 100px;\n",
              "}\n",
              "</style>\n",
              "<table id=\"T_e8a42\" class=\"dataframe\">\n",
              "  <thead>\n",
              "    <tr>\n",
              "      <th class=\"blank level0\" >&nbsp;</th>\n",
              "      <th id=\"T_e8a42_level0_col0\" class=\"col_heading level0 col0\" >outlook</th>\n",
              "      <th id=\"T_e8a42_level0_col1\" class=\"col_heading level0 col1\" >temp</th>\n",
              "      <th id=\"T_e8a42_level0_col2\" class=\"col_heading level0 col2\" >humidity</th>\n",
              "      <th id=\"T_e8a42_level0_col3\" class=\"col_heading level0 col3\" >windy</th>\n",
              "      <th id=\"T_e8a42_level0_col4\" class=\"col_heading level0 col4\" >play</th>\n",
              "    </tr>\n",
              "  </thead>\n",
              "  <tbody>\n",
              "    <tr>\n",
              "      <th id=\"T_e8a42_level0_row0\" class=\"row_heading level0 row0\" >0</th>\n",
              "      <td id=\"T_e8a42_row0_col0\" class=\"data row0 col0\" >sunny</td>\n",
              "      <td id=\"T_e8a42_row0_col1\" class=\"data row0 col1\" >hot</td>\n",
              "      <td id=\"T_e8a42_row0_col2\" class=\"data row0 col2\" >high</td>\n",
              "      <td id=\"T_e8a42_row0_col3\" class=\"data row0 col3\" >False</td>\n",
              "      <td id=\"T_e8a42_row0_col4\" class=\"data row0 col4\" >no</td>\n",
              "    </tr>\n",
              "    <tr>\n",
              "      <th id=\"T_e8a42_level0_row1\" class=\"row_heading level0 row1\" >1</th>\n",
              "      <td id=\"T_e8a42_row1_col0\" class=\"data row1 col0\" >sunny</td>\n",
              "      <td id=\"T_e8a42_row1_col1\" class=\"data row1 col1\" >hot</td>\n",
              "      <td id=\"T_e8a42_row1_col2\" class=\"data row1 col2\" >high</td>\n",
              "      <td id=\"T_e8a42_row1_col3\" class=\"data row1 col3\" >True</td>\n",
              "      <td id=\"T_e8a42_row1_col4\" class=\"data row1 col4\" >no</td>\n",
              "    </tr>\n",
              "    <tr>\n",
              "      <th id=\"T_e8a42_level0_row2\" class=\"row_heading level0 row2\" >7</th>\n",
              "      <td id=\"T_e8a42_row2_col0\" class=\"data row2 col0\" >sunny</td>\n",
              "      <td id=\"T_e8a42_row2_col1\" class=\"data row2 col1\" >mild</td>\n",
              "      <td id=\"T_e8a42_row2_col2\" class=\"data row2 col2\" >high</td>\n",
              "      <td id=\"T_e8a42_row2_col3\" class=\"data row2 col3\" >False</td>\n",
              "      <td id=\"T_e8a42_row2_col4\" class=\"data row2 col4\" >no</td>\n",
              "    </tr>\n",
              "    <tr>\n",
              "      <th id=\"T_e8a42_level0_row3\" class=\"row_heading level0 row3\" >8</th>\n",
              "      <td id=\"T_e8a42_row3_col0\" class=\"data row3 col0\" >sunny</td>\n",
              "      <td id=\"T_e8a42_row3_col1\" class=\"data row3 col1\" >cool</td>\n",
              "      <td id=\"T_e8a42_row3_col2\" class=\"data row3 col2\" >normal</td>\n",
              "      <td id=\"T_e8a42_row3_col3\" class=\"data row3 col3\" >False</td>\n",
              "      <td id=\"T_e8a42_row3_col4\" class=\"data row3 col4\" >yes</td>\n",
              "    </tr>\n",
              "    <tr>\n",
              "      <th id=\"T_e8a42_level0_row4\" class=\"row_heading level0 row4\" >10</th>\n",
              "      <td id=\"T_e8a42_row4_col0\" class=\"data row4 col0\" >sunny</td>\n",
              "      <td id=\"T_e8a42_row4_col1\" class=\"data row4 col1\" >mild</td>\n",
              "      <td id=\"T_e8a42_row4_col2\" class=\"data row4 col2\" >normal</td>\n",
              "      <td id=\"T_e8a42_row4_col3\" class=\"data row4 col3\" >True</td>\n",
              "      <td id=\"T_e8a42_row4_col4\" class=\"data row4 col4\" >yes</td>\n",
              "    </tr>\n",
              "  </tbody>\n",
              "</table>\n"
            ]
          },
          "metadata": {},
          "execution_count": 15
        }
      ]
    },
    {
      "cell_type": "code",
      "source": [
        "print(f'Entropy of the Sunny dataset: {find_entropy(sunny.play)}')"
      ],
      "metadata": {
        "colab": {
          "base_uri": "https://localhost:8080/"
        },
        "id": "mGAj-t-3ieZq",
        "outputId": "ed7e6fbf-1e63-479b-bc3e-e769ca8a6491"
      },
      "execution_count": 16,
      "outputs": [
        {
          "output_type": "stream",
          "name": "stdout",
          "text": [
            "Entropy of the Sunny dataset: 0.971\n"
          ]
        }
      ]
    },
    {
      "cell_type": "code",
      "source": [
        "entropy_and_infogain(sunny, 'temp')"
      ],
      "metadata": {
        "colab": {
          "base_uri": "https://localhost:8080/",
          "height": 348
        },
        "id": "uaKGRAsXiech",
        "outputId": "066d3cc4-ceef-46f4-d8ee-2e9288eb75be"
      },
      "execution_count": 17,
      "outputs": [
        {
          "output_type": "display_data",
          "data": {
            "text/plain": [
              "<pandas.io.formats.style.Styler at 0x7c50eb0cdb10>"
            ],
            "text/html": [
              "<style type=\"text/css\">\n",
              "#T_59079 th {\n",
              "  background-color: lightgray;\n",
              "  border: 1px solid gray;\n",
              "  font-weight: bold;\n",
              "}\n",
              "#T_59079 td {\n",
              "  border: 1px solid gray;\n",
              "}\n",
              "#T_59079 tr:hover {\n",
              "  background-color: white;\n",
              "  border: 1.5px solid black;\n",
              "}\n",
              "#T_59079_row0_col0, #T_59079_row1_col0 {\n",
              "  width: 80px;\n",
              "}\n",
              "#T_59079_row0_col1, #T_59079_row1_col1 {\n",
              "  background-color: pink;\n",
              "  width: 80px;\n",
              "}\n",
              "</style>\n",
              "<table id=\"T_59079\" class=\"dataframe\">\n",
              "  <thead>\n",
              "    <tr>\n",
              "      <th class=\"blank level0\" >&nbsp;</th>\n",
              "      <th id=\"T_59079_level0_col0\" class=\"col_heading level0 col0\" >temp</th>\n",
              "      <th id=\"T_59079_level0_col1\" class=\"col_heading level0 col1\" >play</th>\n",
              "    </tr>\n",
              "  </thead>\n",
              "  <tbody>\n",
              "    <tr>\n",
              "      <th id=\"T_59079_level0_row0\" class=\"row_heading level0 row0\" >0</th>\n",
              "      <td id=\"T_59079_row0_col0\" class=\"data row0 col0\" >hot</td>\n",
              "      <td id=\"T_59079_row0_col1\" class=\"data row0 col1\" >no</td>\n",
              "    </tr>\n",
              "    <tr>\n",
              "      <th id=\"T_59079_level0_row1\" class=\"row_heading level0 row1\" >1</th>\n",
              "      <td id=\"T_59079_row1_col0\" class=\"data row1 col0\" >hot</td>\n",
              "      <td id=\"T_59079_row1_col1\" class=\"data row1 col1\" >no</td>\n",
              "    </tr>\n",
              "  </tbody>\n",
              "</table>\n"
            ]
          },
          "metadata": {}
        },
        {
          "output_type": "stream",
          "name": "stdout",
          "text": [
            "Entropy of temp - hot = 0.0\n"
          ]
        },
        {
          "output_type": "display_data",
          "data": {
            "text/plain": [
              "<pandas.io.formats.style.Styler at 0x7c50eb0cc2e0>"
            ],
            "text/html": [
              "<style type=\"text/css\">\n",
              "#T_96bfa th {\n",
              "  background-color: lightgray;\n",
              "  border: 1px solid gray;\n",
              "  font-weight: bold;\n",
              "}\n",
              "#T_96bfa td {\n",
              "  border: 1px solid gray;\n",
              "}\n",
              "#T_96bfa tr:hover {\n",
              "  background-color: white;\n",
              "  border: 1.5px solid black;\n",
              "}\n",
              "#T_96bfa_row0_col0, #T_96bfa_row1_col0 {\n",
              "  width: 80px;\n",
              "}\n",
              "#T_96bfa_row0_col1 {\n",
              "  background-color: pink;\n",
              "  width: 80px;\n",
              "}\n",
              "#T_96bfa_row1_col1 {\n",
              "  background-color: lightgreen;\n",
              "  width: 80px;\n",
              "}\n",
              "</style>\n",
              "<table id=\"T_96bfa\" class=\"dataframe\">\n",
              "  <thead>\n",
              "    <tr>\n",
              "      <th class=\"blank level0\" >&nbsp;</th>\n",
              "      <th id=\"T_96bfa_level0_col0\" class=\"col_heading level0 col0\" >temp</th>\n",
              "      <th id=\"T_96bfa_level0_col1\" class=\"col_heading level0 col1\" >play</th>\n",
              "    </tr>\n",
              "  </thead>\n",
              "  <tbody>\n",
              "    <tr>\n",
              "      <th id=\"T_96bfa_level0_row0\" class=\"row_heading level0 row0\" >7</th>\n",
              "      <td id=\"T_96bfa_row0_col0\" class=\"data row0 col0\" >mild</td>\n",
              "      <td id=\"T_96bfa_row0_col1\" class=\"data row0 col1\" >no</td>\n",
              "    </tr>\n",
              "    <tr>\n",
              "      <th id=\"T_96bfa_level0_row1\" class=\"row_heading level0 row1\" >10</th>\n",
              "      <td id=\"T_96bfa_row1_col0\" class=\"data row1 col0\" >mild</td>\n",
              "      <td id=\"T_96bfa_row1_col1\" class=\"data row1 col1\" >yes</td>\n",
              "    </tr>\n",
              "  </tbody>\n",
              "</table>\n"
            ]
          },
          "metadata": {}
        },
        {
          "output_type": "stream",
          "name": "stdout",
          "text": [
            "Entropy of temp - mild = 1.0\n"
          ]
        },
        {
          "output_type": "display_data",
          "data": {
            "text/plain": [
              "<pandas.io.formats.style.Styler at 0x7c50eb0cf9a0>"
            ],
            "text/html": [
              "<style type=\"text/css\">\n",
              "#T_ba4ab th {\n",
              "  background-color: lightgray;\n",
              "  border: 1px solid gray;\n",
              "  font-weight: bold;\n",
              "}\n",
              "#T_ba4ab td {\n",
              "  border: 1px solid gray;\n",
              "}\n",
              "#T_ba4ab tr:hover {\n",
              "  background-color: white;\n",
              "  border: 1.5px solid black;\n",
              "}\n",
              "#T_ba4ab_row0_col0 {\n",
              "  width: 80px;\n",
              "}\n",
              "#T_ba4ab_row0_col1 {\n",
              "  background-color: lightgreen;\n",
              "  width: 80px;\n",
              "}\n",
              "</style>\n",
              "<table id=\"T_ba4ab\" class=\"dataframe\">\n",
              "  <thead>\n",
              "    <tr>\n",
              "      <th class=\"blank level0\" >&nbsp;</th>\n",
              "      <th id=\"T_ba4ab_level0_col0\" class=\"col_heading level0 col0\" >temp</th>\n",
              "      <th id=\"T_ba4ab_level0_col1\" class=\"col_heading level0 col1\" >play</th>\n",
              "    </tr>\n",
              "  </thead>\n",
              "  <tbody>\n",
              "    <tr>\n",
              "      <th id=\"T_ba4ab_level0_row0\" class=\"row_heading level0 row0\" >8</th>\n",
              "      <td id=\"T_ba4ab_row0_col0\" class=\"data row0 col0\" >cool</td>\n",
              "      <td id=\"T_ba4ab_row0_col1\" class=\"data row0 col1\" >yes</td>\n",
              "    </tr>\n",
              "  </tbody>\n",
              "</table>\n"
            ]
          },
          "metadata": {}
        },
        {
          "output_type": "stream",
          "name": "stdout",
          "text": [
            "Entropy of temp - cool = 0.0\n",
            "Information Gain for temp = 0.571\n"
          ]
        }
      ]
    },
    {
      "cell_type": "code",
      "source": [
        "entropy_and_infogain(sunny, 'humidity')"
      ],
      "metadata": {
        "colab": {
          "base_uri": "https://localhost:8080/",
          "height": 298
        },
        "id": "_LahWsfuiVIk",
        "outputId": "669b96f7-2bd9-43e0-9ab0-20c7cffe5afc"
      },
      "execution_count": 18,
      "outputs": [
        {
          "output_type": "display_data",
          "data": {
            "text/plain": [
              "<pandas.io.formats.style.Styler at 0x7c50eb092bf0>"
            ],
            "text/html": [
              "<style type=\"text/css\">\n",
              "#T_dfefb th {\n",
              "  background-color: lightgray;\n",
              "  border: 1px solid gray;\n",
              "  font-weight: bold;\n",
              "}\n",
              "#T_dfefb td {\n",
              "  border: 1px solid gray;\n",
              "}\n",
              "#T_dfefb tr:hover {\n",
              "  background-color: white;\n",
              "  border: 1.5px solid black;\n",
              "}\n",
              "#T_dfefb_row0_col0, #T_dfefb_row1_col0, #T_dfefb_row2_col0 {\n",
              "  width: 80px;\n",
              "}\n",
              "#T_dfefb_row0_col1, #T_dfefb_row1_col1, #T_dfefb_row2_col1 {\n",
              "  background-color: pink;\n",
              "  width: 80px;\n",
              "}\n",
              "</style>\n",
              "<table id=\"T_dfefb\" class=\"dataframe\">\n",
              "  <thead>\n",
              "    <tr>\n",
              "      <th class=\"blank level0\" >&nbsp;</th>\n",
              "      <th id=\"T_dfefb_level0_col0\" class=\"col_heading level0 col0\" >humidity</th>\n",
              "      <th id=\"T_dfefb_level0_col1\" class=\"col_heading level0 col1\" >play</th>\n",
              "    </tr>\n",
              "  </thead>\n",
              "  <tbody>\n",
              "    <tr>\n",
              "      <th id=\"T_dfefb_level0_row0\" class=\"row_heading level0 row0\" >0</th>\n",
              "      <td id=\"T_dfefb_row0_col0\" class=\"data row0 col0\" >high</td>\n",
              "      <td id=\"T_dfefb_row0_col1\" class=\"data row0 col1\" >no</td>\n",
              "    </tr>\n",
              "    <tr>\n",
              "      <th id=\"T_dfefb_level0_row1\" class=\"row_heading level0 row1\" >1</th>\n",
              "      <td id=\"T_dfefb_row1_col0\" class=\"data row1 col0\" >high</td>\n",
              "      <td id=\"T_dfefb_row1_col1\" class=\"data row1 col1\" >no</td>\n",
              "    </tr>\n",
              "    <tr>\n",
              "      <th id=\"T_dfefb_level0_row2\" class=\"row_heading level0 row2\" >7</th>\n",
              "      <td id=\"T_dfefb_row2_col0\" class=\"data row2 col0\" >high</td>\n",
              "      <td id=\"T_dfefb_row2_col1\" class=\"data row2 col1\" >no</td>\n",
              "    </tr>\n",
              "  </tbody>\n",
              "</table>\n"
            ]
          },
          "metadata": {}
        },
        {
          "output_type": "stream",
          "name": "stdout",
          "text": [
            "Entropy of humidity - high = 0.0\n"
          ]
        },
        {
          "output_type": "display_data",
          "data": {
            "text/plain": [
              "<pandas.io.formats.style.Styler at 0x7c50eb092e30>"
            ],
            "text/html": [
              "<style type=\"text/css\">\n",
              "#T_f1cdf th {\n",
              "  background-color: lightgray;\n",
              "  border: 1px solid gray;\n",
              "  font-weight: bold;\n",
              "}\n",
              "#T_f1cdf td {\n",
              "  border: 1px solid gray;\n",
              "}\n",
              "#T_f1cdf tr:hover {\n",
              "  background-color: white;\n",
              "  border: 1.5px solid black;\n",
              "}\n",
              "#T_f1cdf_row0_col0, #T_f1cdf_row1_col0 {\n",
              "  width: 80px;\n",
              "}\n",
              "#T_f1cdf_row0_col1, #T_f1cdf_row1_col1 {\n",
              "  background-color: lightgreen;\n",
              "  width: 80px;\n",
              "}\n",
              "</style>\n",
              "<table id=\"T_f1cdf\" class=\"dataframe\">\n",
              "  <thead>\n",
              "    <tr>\n",
              "      <th class=\"blank level0\" >&nbsp;</th>\n",
              "      <th id=\"T_f1cdf_level0_col0\" class=\"col_heading level0 col0\" >humidity</th>\n",
              "      <th id=\"T_f1cdf_level0_col1\" class=\"col_heading level0 col1\" >play</th>\n",
              "    </tr>\n",
              "  </thead>\n",
              "  <tbody>\n",
              "    <tr>\n",
              "      <th id=\"T_f1cdf_level0_row0\" class=\"row_heading level0 row0\" >8</th>\n",
              "      <td id=\"T_f1cdf_row0_col0\" class=\"data row0 col0\" >normal</td>\n",
              "      <td id=\"T_f1cdf_row0_col1\" class=\"data row0 col1\" >yes</td>\n",
              "    </tr>\n",
              "    <tr>\n",
              "      <th id=\"T_f1cdf_level0_row1\" class=\"row_heading level0 row1\" >10</th>\n",
              "      <td id=\"T_f1cdf_row1_col0\" class=\"data row1 col0\" >normal</td>\n",
              "      <td id=\"T_f1cdf_row1_col1\" class=\"data row1 col1\" >yes</td>\n",
              "    </tr>\n",
              "  </tbody>\n",
              "</table>\n"
            ]
          },
          "metadata": {}
        },
        {
          "output_type": "stream",
          "name": "stdout",
          "text": [
            "Entropy of humidity - normal = 0.0\n",
            "Information Gain for humidity = 0.971\n"
          ]
        }
      ]
    },
    {
      "cell_type": "code",
      "source": [
        "entropy_and_infogain(sunny, 'windy')"
      ],
      "metadata": {
        "colab": {
          "base_uri": "https://localhost:8080/",
          "height": 298
        },
        "id": "GEzAxhwkiqrb",
        "outputId": "8dfe3163-a68c-40f0-9fb2-cfa7ffcdc96f"
      },
      "execution_count": 19,
      "outputs": [
        {
          "output_type": "display_data",
          "data": {
            "text/plain": [
              "<pandas.io.formats.style.Styler at 0x7c50eb0ccbe0>"
            ],
            "text/html": [
              "<style type=\"text/css\">\n",
              "#T_f4ca8 th {\n",
              "  background-color: lightgray;\n",
              "  border: 1px solid gray;\n",
              "  font-weight: bold;\n",
              "}\n",
              "#T_f4ca8 td {\n",
              "  border: 1px solid gray;\n",
              "}\n",
              "#T_f4ca8 tr:hover {\n",
              "  background-color: white;\n",
              "  border: 1.5px solid black;\n",
              "}\n",
              "#T_f4ca8_row0_col0, #T_f4ca8_row1_col0, #T_f4ca8_row2_col0 {\n",
              "  width: 80px;\n",
              "}\n",
              "#T_f4ca8_row0_col1, #T_f4ca8_row1_col1 {\n",
              "  background-color: pink;\n",
              "  width: 80px;\n",
              "}\n",
              "#T_f4ca8_row2_col1 {\n",
              "  background-color: lightgreen;\n",
              "  width: 80px;\n",
              "}\n",
              "</style>\n",
              "<table id=\"T_f4ca8\" class=\"dataframe\">\n",
              "  <thead>\n",
              "    <tr>\n",
              "      <th class=\"blank level0\" >&nbsp;</th>\n",
              "      <th id=\"T_f4ca8_level0_col0\" class=\"col_heading level0 col0\" >windy</th>\n",
              "      <th id=\"T_f4ca8_level0_col1\" class=\"col_heading level0 col1\" >play</th>\n",
              "    </tr>\n",
              "  </thead>\n",
              "  <tbody>\n",
              "    <tr>\n",
              "      <th id=\"T_f4ca8_level0_row0\" class=\"row_heading level0 row0\" >0</th>\n",
              "      <td id=\"T_f4ca8_row0_col0\" class=\"data row0 col0\" >False</td>\n",
              "      <td id=\"T_f4ca8_row0_col1\" class=\"data row0 col1\" >no</td>\n",
              "    </tr>\n",
              "    <tr>\n",
              "      <th id=\"T_f4ca8_level0_row1\" class=\"row_heading level0 row1\" >7</th>\n",
              "      <td id=\"T_f4ca8_row1_col0\" class=\"data row1 col0\" >False</td>\n",
              "      <td id=\"T_f4ca8_row1_col1\" class=\"data row1 col1\" >no</td>\n",
              "    </tr>\n",
              "    <tr>\n",
              "      <th id=\"T_f4ca8_level0_row2\" class=\"row_heading level0 row2\" >8</th>\n",
              "      <td id=\"T_f4ca8_row2_col0\" class=\"data row2 col0\" >False</td>\n",
              "      <td id=\"T_f4ca8_row2_col1\" class=\"data row2 col1\" >yes</td>\n",
              "    </tr>\n",
              "  </tbody>\n",
              "</table>\n"
            ]
          },
          "metadata": {}
        },
        {
          "output_type": "stream",
          "name": "stdout",
          "text": [
            "Entropy of windy - False = 0.918\n"
          ]
        },
        {
          "output_type": "display_data",
          "data": {
            "text/plain": [
              "<pandas.io.formats.style.Styler at 0x7c50eb0cdc60>"
            ],
            "text/html": [
              "<style type=\"text/css\">\n",
              "#T_14c18 th {\n",
              "  background-color: lightgray;\n",
              "  border: 1px solid gray;\n",
              "  font-weight: bold;\n",
              "}\n",
              "#T_14c18 td {\n",
              "  border: 1px solid gray;\n",
              "}\n",
              "#T_14c18 tr:hover {\n",
              "  background-color: white;\n",
              "  border: 1.5px solid black;\n",
              "}\n",
              "#T_14c18_row0_col0, #T_14c18_row1_col0 {\n",
              "  width: 80px;\n",
              "}\n",
              "#T_14c18_row0_col1 {\n",
              "  background-color: pink;\n",
              "  width: 80px;\n",
              "}\n",
              "#T_14c18_row1_col1 {\n",
              "  background-color: lightgreen;\n",
              "  width: 80px;\n",
              "}\n",
              "</style>\n",
              "<table id=\"T_14c18\" class=\"dataframe\">\n",
              "  <thead>\n",
              "    <tr>\n",
              "      <th class=\"blank level0\" >&nbsp;</th>\n",
              "      <th id=\"T_14c18_level0_col0\" class=\"col_heading level0 col0\" >windy</th>\n",
              "      <th id=\"T_14c18_level0_col1\" class=\"col_heading level0 col1\" >play</th>\n",
              "    </tr>\n",
              "  </thead>\n",
              "  <tbody>\n",
              "    <tr>\n",
              "      <th id=\"T_14c18_level0_row0\" class=\"row_heading level0 row0\" >1</th>\n",
              "      <td id=\"T_14c18_row0_col0\" class=\"data row0 col0\" >True</td>\n",
              "      <td id=\"T_14c18_row0_col1\" class=\"data row0 col1\" >no</td>\n",
              "    </tr>\n",
              "    <tr>\n",
              "      <th id=\"T_14c18_level0_row1\" class=\"row_heading level0 row1\" >10</th>\n",
              "      <td id=\"T_14c18_row1_col0\" class=\"data row1 col0\" >True</td>\n",
              "      <td id=\"T_14c18_row1_col1\" class=\"data row1 col1\" >yes</td>\n",
              "    </tr>\n",
              "  </tbody>\n",
              "</table>\n"
            ]
          },
          "metadata": {}
        },
        {
          "output_type": "stream",
          "name": "stdout",
          "text": [
            "Entropy of windy - True = 1.0\n",
            "Information Gain for windy = 0.02\n"
          ]
        }
      ]
    },
    {
      "cell_type": "code",
      "source": [
        "rainy = data[data['outlook'] == 'rainy']\n",
        "rainy.style.applymap(highlight)\\\n",
        "    .set_properties(subset=data.columns, **{'width': '100px'})\\\n",
        "    .set_table_styles([{'selector': 'th', 'props': [('background-color', 'lightgray'), ('border', '1px solid gray'),\n",
        "                                                    ('font-weight', 'bold')]},\n",
        "     {'selector': 'tr:hover', 'props': [('background-color', 'white'), ('border', '1.5px solid black')]}])"
      ],
      "metadata": {
        "colab": {
          "base_uri": "https://localhost:8080/",
          "height": 212
        },
        "id": "FBFAnz15iqub",
        "outputId": "50d06fa7-32f6-4064-f1b2-eb5e112d82a3"
      },
      "execution_count": 20,
      "outputs": [
        {
          "output_type": "execute_result",
          "data": {
            "text/plain": [
              "<pandas.io.formats.style.Styler at 0x7c50eb0cf310>"
            ],
            "text/html": [
              "<style type=\"text/css\">\n",
              "#T_9b0e5 th {\n",
              "  background-color: lightgray;\n",
              "  border: 1px solid gray;\n",
              "  font-weight: bold;\n",
              "}\n",
              "#T_9b0e5 tr:hover {\n",
              "  background-color: white;\n",
              "  border: 1.5px solid black;\n",
              "}\n",
              "#T_9b0e5_row0_col0, #T_9b0e5_row0_col1, #T_9b0e5_row0_col2, #T_9b0e5_row0_col3, #T_9b0e5_row1_col0, #T_9b0e5_row1_col1, #T_9b0e5_row1_col2, #T_9b0e5_row1_col3, #T_9b0e5_row2_col0, #T_9b0e5_row2_col1, #T_9b0e5_row2_col2, #T_9b0e5_row2_col3, #T_9b0e5_row3_col0, #T_9b0e5_row3_col1, #T_9b0e5_row3_col2, #T_9b0e5_row3_col3, #T_9b0e5_row4_col0, #T_9b0e5_row4_col1, #T_9b0e5_row4_col2, #T_9b0e5_row4_col3 {\n",
              "  width: 100px;\n",
              "}\n",
              "#T_9b0e5_row0_col4, #T_9b0e5_row1_col4, #T_9b0e5_row3_col4 {\n",
              "  background-color: lightgreen;\n",
              "  width: 100px;\n",
              "}\n",
              "#T_9b0e5_row2_col4, #T_9b0e5_row4_col4 {\n",
              "  background-color: pink;\n",
              "  width: 100px;\n",
              "}\n",
              "</style>\n",
              "<table id=\"T_9b0e5\" class=\"dataframe\">\n",
              "  <thead>\n",
              "    <tr>\n",
              "      <th class=\"blank level0\" >&nbsp;</th>\n",
              "      <th id=\"T_9b0e5_level0_col0\" class=\"col_heading level0 col0\" >outlook</th>\n",
              "      <th id=\"T_9b0e5_level0_col1\" class=\"col_heading level0 col1\" >temp</th>\n",
              "      <th id=\"T_9b0e5_level0_col2\" class=\"col_heading level0 col2\" >humidity</th>\n",
              "      <th id=\"T_9b0e5_level0_col3\" class=\"col_heading level0 col3\" >windy</th>\n",
              "      <th id=\"T_9b0e5_level0_col4\" class=\"col_heading level0 col4\" >play</th>\n",
              "    </tr>\n",
              "  </thead>\n",
              "  <tbody>\n",
              "    <tr>\n",
              "      <th id=\"T_9b0e5_level0_row0\" class=\"row_heading level0 row0\" >3</th>\n",
              "      <td id=\"T_9b0e5_row0_col0\" class=\"data row0 col0\" >rainy</td>\n",
              "      <td id=\"T_9b0e5_row0_col1\" class=\"data row0 col1\" >mild</td>\n",
              "      <td id=\"T_9b0e5_row0_col2\" class=\"data row0 col2\" >high</td>\n",
              "      <td id=\"T_9b0e5_row0_col3\" class=\"data row0 col3\" >False</td>\n",
              "      <td id=\"T_9b0e5_row0_col4\" class=\"data row0 col4\" >yes</td>\n",
              "    </tr>\n",
              "    <tr>\n",
              "      <th id=\"T_9b0e5_level0_row1\" class=\"row_heading level0 row1\" >4</th>\n",
              "      <td id=\"T_9b0e5_row1_col0\" class=\"data row1 col0\" >rainy</td>\n",
              "      <td id=\"T_9b0e5_row1_col1\" class=\"data row1 col1\" >cool</td>\n",
              "      <td id=\"T_9b0e5_row1_col2\" class=\"data row1 col2\" >normal</td>\n",
              "      <td id=\"T_9b0e5_row1_col3\" class=\"data row1 col3\" >False</td>\n",
              "      <td id=\"T_9b0e5_row1_col4\" class=\"data row1 col4\" >yes</td>\n",
              "    </tr>\n",
              "    <tr>\n",
              "      <th id=\"T_9b0e5_level0_row2\" class=\"row_heading level0 row2\" >5</th>\n",
              "      <td id=\"T_9b0e5_row2_col0\" class=\"data row2 col0\" >rainy</td>\n",
              "      <td id=\"T_9b0e5_row2_col1\" class=\"data row2 col1\" >cool</td>\n",
              "      <td id=\"T_9b0e5_row2_col2\" class=\"data row2 col2\" >normal</td>\n",
              "      <td id=\"T_9b0e5_row2_col3\" class=\"data row2 col3\" >True</td>\n",
              "      <td id=\"T_9b0e5_row2_col4\" class=\"data row2 col4\" >no</td>\n",
              "    </tr>\n",
              "    <tr>\n",
              "      <th id=\"T_9b0e5_level0_row3\" class=\"row_heading level0 row3\" >9</th>\n",
              "      <td id=\"T_9b0e5_row3_col0\" class=\"data row3 col0\" >rainy</td>\n",
              "      <td id=\"T_9b0e5_row3_col1\" class=\"data row3 col1\" >mild</td>\n",
              "      <td id=\"T_9b0e5_row3_col2\" class=\"data row3 col2\" >normal</td>\n",
              "      <td id=\"T_9b0e5_row3_col3\" class=\"data row3 col3\" >False</td>\n",
              "      <td id=\"T_9b0e5_row3_col4\" class=\"data row3 col4\" >yes</td>\n",
              "    </tr>\n",
              "    <tr>\n",
              "      <th id=\"T_9b0e5_level0_row4\" class=\"row_heading level0 row4\" >13</th>\n",
              "      <td id=\"T_9b0e5_row4_col0\" class=\"data row4 col0\" >rainy</td>\n",
              "      <td id=\"T_9b0e5_row4_col1\" class=\"data row4 col1\" >mild</td>\n",
              "      <td id=\"T_9b0e5_row4_col2\" class=\"data row4 col2\" >high</td>\n",
              "      <td id=\"T_9b0e5_row4_col3\" class=\"data row4 col3\" >True</td>\n",
              "      <td id=\"T_9b0e5_row4_col4\" class=\"data row4 col4\" >no</td>\n",
              "    </tr>\n",
              "  </tbody>\n",
              "</table>\n"
            ]
          },
          "metadata": {},
          "execution_count": 20
        }
      ]
    },
    {
      "cell_type": "code",
      "source": [
        "print(f'Entropy of the Rainy dataset: {find_entropy(rainy.play)}')\n",
        "\n"
      ],
      "metadata": {
        "colab": {
          "base_uri": "https://localhost:8080/"
        },
        "id": "tzzFO1mniqxF",
        "outputId": "6abc980c-eafa-4be6-985c-c4bcd1b91055"
      },
      "execution_count": 21,
      "outputs": [
        {
          "output_type": "stream",
          "name": "stdout",
          "text": [
            "Entropy of the Rainy dataset: 0.971\n"
          ]
        }
      ]
    },
    {
      "cell_type": "code",
      "source": [
        "entropy_and_infogain(rainy, 'temp')"
      ],
      "metadata": {
        "colab": {
          "base_uri": "https://localhost:8080/",
          "height": 298
        },
        "id": "eBoLJTqxi7Es",
        "outputId": "61bc8fad-e630-4f71-af26-e3c42e2938c1"
      },
      "execution_count": 22,
      "outputs": [
        {
          "output_type": "display_data",
          "data": {
            "text/plain": [
              "<pandas.io.formats.style.Styler at 0x7c50eb0cc1c0>"
            ],
            "text/html": [
              "<style type=\"text/css\">\n",
              "#T_780ce th {\n",
              "  background-color: lightgray;\n",
              "  border: 1px solid gray;\n",
              "  font-weight: bold;\n",
              "}\n",
              "#T_780ce td {\n",
              "  border: 1px solid gray;\n",
              "}\n",
              "#T_780ce tr:hover {\n",
              "  background-color: white;\n",
              "  border: 1.5px solid black;\n",
              "}\n",
              "#T_780ce_row0_col0, #T_780ce_row1_col0, #T_780ce_row2_col0 {\n",
              "  width: 80px;\n",
              "}\n",
              "#T_780ce_row0_col1, #T_780ce_row1_col1 {\n",
              "  background-color: lightgreen;\n",
              "  width: 80px;\n",
              "}\n",
              "#T_780ce_row2_col1 {\n",
              "  background-color: pink;\n",
              "  width: 80px;\n",
              "}\n",
              "</style>\n",
              "<table id=\"T_780ce\" class=\"dataframe\">\n",
              "  <thead>\n",
              "    <tr>\n",
              "      <th class=\"blank level0\" >&nbsp;</th>\n",
              "      <th id=\"T_780ce_level0_col0\" class=\"col_heading level0 col0\" >temp</th>\n",
              "      <th id=\"T_780ce_level0_col1\" class=\"col_heading level0 col1\" >play</th>\n",
              "    </tr>\n",
              "  </thead>\n",
              "  <tbody>\n",
              "    <tr>\n",
              "      <th id=\"T_780ce_level0_row0\" class=\"row_heading level0 row0\" >3</th>\n",
              "      <td id=\"T_780ce_row0_col0\" class=\"data row0 col0\" >mild</td>\n",
              "      <td id=\"T_780ce_row0_col1\" class=\"data row0 col1\" >yes</td>\n",
              "    </tr>\n",
              "    <tr>\n",
              "      <th id=\"T_780ce_level0_row1\" class=\"row_heading level0 row1\" >9</th>\n",
              "      <td id=\"T_780ce_row1_col0\" class=\"data row1 col0\" >mild</td>\n",
              "      <td id=\"T_780ce_row1_col1\" class=\"data row1 col1\" >yes</td>\n",
              "    </tr>\n",
              "    <tr>\n",
              "      <th id=\"T_780ce_level0_row2\" class=\"row_heading level0 row2\" >13</th>\n",
              "      <td id=\"T_780ce_row2_col0\" class=\"data row2 col0\" >mild</td>\n",
              "      <td id=\"T_780ce_row2_col1\" class=\"data row2 col1\" >no</td>\n",
              "    </tr>\n",
              "  </tbody>\n",
              "</table>\n"
            ]
          },
          "metadata": {}
        },
        {
          "output_type": "stream",
          "name": "stdout",
          "text": [
            "Entropy of temp - mild = 0.918\n"
          ]
        },
        {
          "output_type": "display_data",
          "data": {
            "text/plain": [
              "<pandas.io.formats.style.Styler at 0x7c50eb0cc820>"
            ],
            "text/html": [
              "<style type=\"text/css\">\n",
              "#T_690a5 th {\n",
              "  background-color: lightgray;\n",
              "  border: 1px solid gray;\n",
              "  font-weight: bold;\n",
              "}\n",
              "#T_690a5 td {\n",
              "  border: 1px solid gray;\n",
              "}\n",
              "#T_690a5 tr:hover {\n",
              "  background-color: white;\n",
              "  border: 1.5px solid black;\n",
              "}\n",
              "#T_690a5_row0_col0, #T_690a5_row1_col0 {\n",
              "  width: 80px;\n",
              "}\n",
              "#T_690a5_row0_col1 {\n",
              "  background-color: lightgreen;\n",
              "  width: 80px;\n",
              "}\n",
              "#T_690a5_row1_col1 {\n",
              "  background-color: pink;\n",
              "  width: 80px;\n",
              "}\n",
              "</style>\n",
              "<table id=\"T_690a5\" class=\"dataframe\">\n",
              "  <thead>\n",
              "    <tr>\n",
              "      <th class=\"blank level0\" >&nbsp;</th>\n",
              "      <th id=\"T_690a5_level0_col0\" class=\"col_heading level0 col0\" >temp</th>\n",
              "      <th id=\"T_690a5_level0_col1\" class=\"col_heading level0 col1\" >play</th>\n",
              "    </tr>\n",
              "  </thead>\n",
              "  <tbody>\n",
              "    <tr>\n",
              "      <th id=\"T_690a5_level0_row0\" class=\"row_heading level0 row0\" >4</th>\n",
              "      <td id=\"T_690a5_row0_col0\" class=\"data row0 col0\" >cool</td>\n",
              "      <td id=\"T_690a5_row0_col1\" class=\"data row0 col1\" >yes</td>\n",
              "    </tr>\n",
              "    <tr>\n",
              "      <th id=\"T_690a5_level0_row1\" class=\"row_heading level0 row1\" >5</th>\n",
              "      <td id=\"T_690a5_row1_col0\" class=\"data row1 col0\" >cool</td>\n",
              "      <td id=\"T_690a5_row1_col1\" class=\"data row1 col1\" >no</td>\n",
              "    </tr>\n",
              "  </tbody>\n",
              "</table>\n"
            ]
          },
          "metadata": {}
        },
        {
          "output_type": "stream",
          "name": "stdout",
          "text": [
            "Entropy of temp - cool = 1.0\n",
            "Information Gain for temp = 0.02\n"
          ]
        }
      ]
    },
    {
      "cell_type": "code",
      "source": [
        "entropy_and_infogain(rainy, 'humidity')"
      ],
      "metadata": {
        "colab": {
          "base_uri": "https://localhost:8080/",
          "height": 298
        },
        "id": "FZJ5jiXei7Hk",
        "outputId": "70a4e6a3-9bd2-4a68-cd10-b85f8e2fcef4"
      },
      "execution_count": 23,
      "outputs": [
        {
          "output_type": "display_data",
          "data": {
            "text/plain": [
              "<pandas.io.formats.style.Styler at 0x7c50eb092170>"
            ],
            "text/html": [
              "<style type=\"text/css\">\n",
              "#T_8b01e th {\n",
              "  background-color: lightgray;\n",
              "  border: 1px solid gray;\n",
              "  font-weight: bold;\n",
              "}\n",
              "#T_8b01e td {\n",
              "  border: 1px solid gray;\n",
              "}\n",
              "#T_8b01e tr:hover {\n",
              "  background-color: white;\n",
              "  border: 1.5px solid black;\n",
              "}\n",
              "#T_8b01e_row0_col0, #T_8b01e_row1_col0 {\n",
              "  width: 80px;\n",
              "}\n",
              "#T_8b01e_row0_col1 {\n",
              "  background-color: lightgreen;\n",
              "  width: 80px;\n",
              "}\n",
              "#T_8b01e_row1_col1 {\n",
              "  background-color: pink;\n",
              "  width: 80px;\n",
              "}\n",
              "</style>\n",
              "<table id=\"T_8b01e\" class=\"dataframe\">\n",
              "  <thead>\n",
              "    <tr>\n",
              "      <th class=\"blank level0\" >&nbsp;</th>\n",
              "      <th id=\"T_8b01e_level0_col0\" class=\"col_heading level0 col0\" >humidity</th>\n",
              "      <th id=\"T_8b01e_level0_col1\" class=\"col_heading level0 col1\" >play</th>\n",
              "    </tr>\n",
              "  </thead>\n",
              "  <tbody>\n",
              "    <tr>\n",
              "      <th id=\"T_8b01e_level0_row0\" class=\"row_heading level0 row0\" >3</th>\n",
              "      <td id=\"T_8b01e_row0_col0\" class=\"data row0 col0\" >high</td>\n",
              "      <td id=\"T_8b01e_row0_col1\" class=\"data row0 col1\" >yes</td>\n",
              "    </tr>\n",
              "    <tr>\n",
              "      <th id=\"T_8b01e_level0_row1\" class=\"row_heading level0 row1\" >13</th>\n",
              "      <td id=\"T_8b01e_row1_col0\" class=\"data row1 col0\" >high</td>\n",
              "      <td id=\"T_8b01e_row1_col1\" class=\"data row1 col1\" >no</td>\n",
              "    </tr>\n",
              "  </tbody>\n",
              "</table>\n"
            ]
          },
          "metadata": {}
        },
        {
          "output_type": "stream",
          "name": "stdout",
          "text": [
            "Entropy of humidity - high = 1.0\n"
          ]
        },
        {
          "output_type": "display_data",
          "data": {
            "text/plain": [
              "<pandas.io.formats.style.Styler at 0x7c50eb0931f0>"
            ],
            "text/html": [
              "<style type=\"text/css\">\n",
              "#T_89627 th {\n",
              "  background-color: lightgray;\n",
              "  border: 1px solid gray;\n",
              "  font-weight: bold;\n",
              "}\n",
              "#T_89627 td {\n",
              "  border: 1px solid gray;\n",
              "}\n",
              "#T_89627 tr:hover {\n",
              "  background-color: white;\n",
              "  border: 1.5px solid black;\n",
              "}\n",
              "#T_89627_row0_col0, #T_89627_row1_col0, #T_89627_row2_col0 {\n",
              "  width: 80px;\n",
              "}\n",
              "#T_89627_row0_col1, #T_89627_row2_col1 {\n",
              "  background-color: lightgreen;\n",
              "  width: 80px;\n",
              "}\n",
              "#T_89627_row1_col1 {\n",
              "  background-color: pink;\n",
              "  width: 80px;\n",
              "}\n",
              "</style>\n",
              "<table id=\"T_89627\" class=\"dataframe\">\n",
              "  <thead>\n",
              "    <tr>\n",
              "      <th class=\"blank level0\" >&nbsp;</th>\n",
              "      <th id=\"T_89627_level0_col0\" class=\"col_heading level0 col0\" >humidity</th>\n",
              "      <th id=\"T_89627_level0_col1\" class=\"col_heading level0 col1\" >play</th>\n",
              "    </tr>\n",
              "  </thead>\n",
              "  <tbody>\n",
              "    <tr>\n",
              "      <th id=\"T_89627_level0_row0\" class=\"row_heading level0 row0\" >4</th>\n",
              "      <td id=\"T_89627_row0_col0\" class=\"data row0 col0\" >normal</td>\n",
              "      <td id=\"T_89627_row0_col1\" class=\"data row0 col1\" >yes</td>\n",
              "    </tr>\n",
              "    <tr>\n",
              "      <th id=\"T_89627_level0_row1\" class=\"row_heading level0 row1\" >5</th>\n",
              "      <td id=\"T_89627_row1_col0\" class=\"data row1 col0\" >normal</td>\n",
              "      <td id=\"T_89627_row1_col1\" class=\"data row1 col1\" >no</td>\n",
              "    </tr>\n",
              "    <tr>\n",
              "      <th id=\"T_89627_level0_row2\" class=\"row_heading level0 row2\" >9</th>\n",
              "      <td id=\"T_89627_row2_col0\" class=\"data row2 col0\" >normal</td>\n",
              "      <td id=\"T_89627_row2_col1\" class=\"data row2 col1\" >yes</td>\n",
              "    </tr>\n",
              "  </tbody>\n",
              "</table>\n"
            ]
          },
          "metadata": {}
        },
        {
          "output_type": "stream",
          "name": "stdout",
          "text": [
            "Entropy of humidity - normal = 0.918\n",
            "Information Gain for humidity = 0.02\n"
          ]
        }
      ]
    },
    {
      "cell_type": "code",
      "source": [
        "entropy_and_infogain(rainy, 'windy')"
      ],
      "metadata": {
        "colab": {
          "base_uri": "https://localhost:8080/",
          "height": 298
        },
        "id": "_u_gl-jXi7Jz",
        "outputId": "4744881d-21a4-4998-dc92-ec7213aea609"
      },
      "execution_count": 24,
      "outputs": [
        {
          "output_type": "display_data",
          "data": {
            "text/plain": [
              "<pandas.io.formats.style.Styler at 0x7c50eb0cc100>"
            ],
            "text/html": [
              "<style type=\"text/css\">\n",
              "#T_0f5fb th {\n",
              "  background-color: lightgray;\n",
              "  border: 1px solid gray;\n",
              "  font-weight: bold;\n",
              "}\n",
              "#T_0f5fb td {\n",
              "  border: 1px solid gray;\n",
              "}\n",
              "#T_0f5fb tr:hover {\n",
              "  background-color: white;\n",
              "  border: 1.5px solid black;\n",
              "}\n",
              "#T_0f5fb_row0_col0, #T_0f5fb_row1_col0, #T_0f5fb_row2_col0 {\n",
              "  width: 80px;\n",
              "}\n",
              "#T_0f5fb_row0_col1, #T_0f5fb_row1_col1, #T_0f5fb_row2_col1 {\n",
              "  background-color: lightgreen;\n",
              "  width: 80px;\n",
              "}\n",
              "</style>\n",
              "<table id=\"T_0f5fb\" class=\"dataframe\">\n",
              "  <thead>\n",
              "    <tr>\n",
              "      <th class=\"blank level0\" >&nbsp;</th>\n",
              "      <th id=\"T_0f5fb_level0_col0\" class=\"col_heading level0 col0\" >windy</th>\n",
              "      <th id=\"T_0f5fb_level0_col1\" class=\"col_heading level0 col1\" >play</th>\n",
              "    </tr>\n",
              "  </thead>\n",
              "  <tbody>\n",
              "    <tr>\n",
              "      <th id=\"T_0f5fb_level0_row0\" class=\"row_heading level0 row0\" >3</th>\n",
              "      <td id=\"T_0f5fb_row0_col0\" class=\"data row0 col0\" >False</td>\n",
              "      <td id=\"T_0f5fb_row0_col1\" class=\"data row0 col1\" >yes</td>\n",
              "    </tr>\n",
              "    <tr>\n",
              "      <th id=\"T_0f5fb_level0_row1\" class=\"row_heading level0 row1\" >4</th>\n",
              "      <td id=\"T_0f5fb_row1_col0\" class=\"data row1 col0\" >False</td>\n",
              "      <td id=\"T_0f5fb_row1_col1\" class=\"data row1 col1\" >yes</td>\n",
              "    </tr>\n",
              "    <tr>\n",
              "      <th id=\"T_0f5fb_level0_row2\" class=\"row_heading level0 row2\" >9</th>\n",
              "      <td id=\"T_0f5fb_row2_col0\" class=\"data row2 col0\" >False</td>\n",
              "      <td id=\"T_0f5fb_row2_col1\" class=\"data row2 col1\" >yes</td>\n",
              "    </tr>\n",
              "  </tbody>\n",
              "</table>\n"
            ]
          },
          "metadata": {}
        },
        {
          "output_type": "stream",
          "name": "stdout",
          "text": [
            "Entropy of windy - False = 0.0\n"
          ]
        },
        {
          "output_type": "display_data",
          "data": {
            "text/plain": [
              "<pandas.io.formats.style.Styler at 0x7c50eb12d5d0>"
            ],
            "text/html": [
              "<style type=\"text/css\">\n",
              "#T_14133 th {\n",
              "  background-color: lightgray;\n",
              "  border: 1px solid gray;\n",
              "  font-weight: bold;\n",
              "}\n",
              "#T_14133 td {\n",
              "  border: 1px solid gray;\n",
              "}\n",
              "#T_14133 tr:hover {\n",
              "  background-color: white;\n",
              "  border: 1.5px solid black;\n",
              "}\n",
              "#T_14133_row0_col0, #T_14133_row1_col0 {\n",
              "  width: 80px;\n",
              "}\n",
              "#T_14133_row0_col1, #T_14133_row1_col1 {\n",
              "  background-color: pink;\n",
              "  width: 80px;\n",
              "}\n",
              "</style>\n",
              "<table id=\"T_14133\" class=\"dataframe\">\n",
              "  <thead>\n",
              "    <tr>\n",
              "      <th class=\"blank level0\" >&nbsp;</th>\n",
              "      <th id=\"T_14133_level0_col0\" class=\"col_heading level0 col0\" >windy</th>\n",
              "      <th id=\"T_14133_level0_col1\" class=\"col_heading level0 col1\" >play</th>\n",
              "    </tr>\n",
              "  </thead>\n",
              "  <tbody>\n",
              "    <tr>\n",
              "      <th id=\"T_14133_level0_row0\" class=\"row_heading level0 row0\" >5</th>\n",
              "      <td id=\"T_14133_row0_col0\" class=\"data row0 col0\" >True</td>\n",
              "      <td id=\"T_14133_row0_col1\" class=\"data row0 col1\" >no</td>\n",
              "    </tr>\n",
              "    <tr>\n",
              "      <th id=\"T_14133_level0_row1\" class=\"row_heading level0 row1\" >13</th>\n",
              "      <td id=\"T_14133_row1_col0\" class=\"data row1 col0\" >True</td>\n",
              "      <td id=\"T_14133_row1_col1\" class=\"data row1 col1\" >no</td>\n",
              "    </tr>\n",
              "  </tbody>\n",
              "</table>\n"
            ]
          },
          "metadata": {}
        },
        {
          "output_type": "stream",
          "name": "stdout",
          "text": [
            "Entropy of windy - True = 0.0\n",
            "Information Gain for windy = 0.971\n"
          ]
        }
      ]
    }
  ]
}