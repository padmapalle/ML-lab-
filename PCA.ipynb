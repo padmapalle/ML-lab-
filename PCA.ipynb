{
  "nbformat": 4,
  "nbformat_minor": 0,
  "metadata": {
    "colab": {
      "provenance": [],
      "authorship_tag": "ABX9TyOE1bjBz/D/Q/ArtmhnyLiE",
      "include_colab_link": true
    },
    "kernelspec": {
      "name": "python3",
      "display_name": "Python 3"
    },
    "language_info": {
      "name": "python"
    }
  },
  "cells": [
    {
      "cell_type": "markdown",
      "metadata": {
        "id": "view-in-github",
        "colab_type": "text"
      },
      "source": [
        "<a href=\"https://colab.research.google.com/github/Jyothika083/ML/blob/main/PCA.ipynb\" target=\"_parent\"><img src=\"https://colab.research.google.com/assets/colab-badge.svg\" alt=\"Open In Colab\"/></a>"
      ]
    },
    {
      "cell_type": "code",
      "execution_count": null,
      "metadata": {
        "colab": {
          "base_uri": "https://localhost:8080/"
        },
        "id": "w5B1tPx1kXkM",
        "outputId": "6034afa0-a413-4ee4-e07e-c56c5176d40c"
      },
      "outputs": [
        {
          "output_type": "stream",
          "name": "stdout",
          "text": [
            "Mounted at /content/drive\n"
          ]
        }
      ],
      "source": [
        "from google.colab import drive\n",
        "drive.mount('/content/drive')"
      ]
    },
    {
      "cell_type": "code",
      "source": [
        "import seaborn as sns\n",
        "import numpy as np\n",
        "import pandas as pd\n",
        "import matplotlib.pyplot as plt\n",
        "import plotly.express as px\n",
        "import plotly.graph_objects as go\n",
        "from plotly.subplots import make_subplots"
      ],
      "metadata": {
        "id": "zIWTp4pskzNp"
      },
      "execution_count": null,
      "outputs": []
    },
    {
      "cell_type": "code",
      "source": [
        "df = pd.read_csv('/content/drive/MyDrive/breast-cancer.csv')\n",
        "df.head()"
      ],
      "metadata": {
        "colab": {
          "base_uri": "https://localhost:8080/",
          "height": 273
        },
        "id": "DgfaACiUk1ZN",
        "outputId": "2ed6a958-ba0a-4572-93bd-e5de5a758f20"
      },
      "execution_count": null,
      "outputs": [
        {
          "output_type": "execute_result",
          "data": {
            "text/plain": [
              "         id diagnosis  radius_mean  texture_mean  perimeter_mean  area_mean  \\\n",
              "0    842302         M        17.99         10.38          122.80     1001.0   \n",
              "1    842517         M        20.57         17.77          132.90     1326.0   \n",
              "2  84300903         M        19.69         21.25          130.00     1203.0   \n",
              "3  84348301         M        11.42         20.38           77.58      386.1   \n",
              "4  84358402         M        20.29         14.34          135.10     1297.0   \n",
              "\n",
              "   smoothness_mean  compactness_mean  concavity_mean  concave points_mean  \\\n",
              "0          0.11840           0.27760          0.3001              0.14710   \n",
              "1          0.08474           0.07864          0.0869              0.07017   \n",
              "2          0.10960           0.15990          0.1974              0.12790   \n",
              "3          0.14250           0.28390          0.2414              0.10520   \n",
              "4          0.10030           0.13280          0.1980              0.10430   \n",
              "\n",
              "   ...  radius_worst  texture_worst  perimeter_worst  area_worst  \\\n",
              "0  ...         25.38          17.33           184.60      2019.0   \n",
              "1  ...         24.99          23.41           158.80      1956.0   \n",
              "2  ...         23.57          25.53           152.50      1709.0   \n",
              "3  ...         14.91          26.50            98.87       567.7   \n",
              "4  ...         22.54          16.67           152.20      1575.0   \n",
              "\n",
              "   smoothness_worst  compactness_worst  concavity_worst  concave points_worst  \\\n",
              "0            0.1622             0.6656           0.7119                0.2654   \n",
              "1            0.1238             0.1866           0.2416                0.1860   \n",
              "2            0.1444             0.4245           0.4504                0.2430   \n",
              "3            0.2098             0.8663           0.6869                0.2575   \n",
              "4            0.1374             0.2050           0.4000                0.1625   \n",
              "\n",
              "   symmetry_worst  fractal_dimension_worst  \n",
              "0          0.4601                  0.11890  \n",
              "1          0.2750                  0.08902  \n",
              "2          0.3613                  0.08758  \n",
              "3          0.6638                  0.17300  \n",
              "4          0.2364                  0.07678  \n",
              "\n",
              "[5 rows x 32 columns]"
            ],
            "text/html": [
              "\n",
              "  <div id=\"df-a689796e-19af-41e7-b501-12c67affc42b\" class=\"colab-df-container\">\n",
              "    <div>\n",
              "<style scoped>\n",
              "    .dataframe tbody tr th:only-of-type {\n",
              "        vertical-align: middle;\n",
              "    }\n",
              "\n",
              "    .dataframe tbody tr th {\n",
              "        vertical-align: top;\n",
              "    }\n",
              "\n",
              "    .dataframe thead th {\n",
              "        text-align: right;\n",
              "    }\n",
              "</style>\n",
              "<table border=\"1\" class=\"dataframe\">\n",
              "  <thead>\n",
              "    <tr style=\"text-align: right;\">\n",
              "      <th></th>\n",
              "      <th>id</th>\n",
              "      <th>diagnosis</th>\n",
              "      <th>radius_mean</th>\n",
              "      <th>texture_mean</th>\n",
              "      <th>perimeter_mean</th>\n",
              "      <th>area_mean</th>\n",
              "      <th>smoothness_mean</th>\n",
              "      <th>compactness_mean</th>\n",
              "      <th>concavity_mean</th>\n",
              "      <th>concave points_mean</th>\n",
              "      <th>...</th>\n",
              "      <th>radius_worst</th>\n",
              "      <th>texture_worst</th>\n",
              "      <th>perimeter_worst</th>\n",
              "      <th>area_worst</th>\n",
              "      <th>smoothness_worst</th>\n",
              "      <th>compactness_worst</th>\n",
              "      <th>concavity_worst</th>\n",
              "      <th>concave points_worst</th>\n",
              "      <th>symmetry_worst</th>\n",
              "      <th>fractal_dimension_worst</th>\n",
              "    </tr>\n",
              "  </thead>\n",
              "  <tbody>\n",
              "    <tr>\n",
              "      <th>0</th>\n",
              "      <td>842302</td>\n",
              "      <td>M</td>\n",
              "      <td>17.99</td>\n",
              "      <td>10.38</td>\n",
              "      <td>122.80</td>\n",
              "      <td>1001.0</td>\n",
              "      <td>0.11840</td>\n",
              "      <td>0.27760</td>\n",
              "      <td>0.3001</td>\n",
              "      <td>0.14710</td>\n",
              "      <td>...</td>\n",
              "      <td>25.38</td>\n",
              "      <td>17.33</td>\n",
              "      <td>184.60</td>\n",
              "      <td>2019.0</td>\n",
              "      <td>0.1622</td>\n",
              "      <td>0.6656</td>\n",
              "      <td>0.7119</td>\n",
              "      <td>0.2654</td>\n",
              "      <td>0.4601</td>\n",
              "      <td>0.11890</td>\n",
              "    </tr>\n",
              "    <tr>\n",
              "      <th>1</th>\n",
              "      <td>842517</td>\n",
              "      <td>M</td>\n",
              "      <td>20.57</td>\n",
              "      <td>17.77</td>\n",
              "      <td>132.90</td>\n",
              "      <td>1326.0</td>\n",
              "      <td>0.08474</td>\n",
              "      <td>0.07864</td>\n",
              "      <td>0.0869</td>\n",
              "      <td>0.07017</td>\n",
              "      <td>...</td>\n",
              "      <td>24.99</td>\n",
              "      <td>23.41</td>\n",
              "      <td>158.80</td>\n",
              "      <td>1956.0</td>\n",
              "      <td>0.1238</td>\n",
              "      <td>0.1866</td>\n",
              "      <td>0.2416</td>\n",
              "      <td>0.1860</td>\n",
              "      <td>0.2750</td>\n",
              "      <td>0.08902</td>\n",
              "    </tr>\n",
              "    <tr>\n",
              "      <th>2</th>\n",
              "      <td>84300903</td>\n",
              "      <td>M</td>\n",
              "      <td>19.69</td>\n",
              "      <td>21.25</td>\n",
              "      <td>130.00</td>\n",
              "      <td>1203.0</td>\n",
              "      <td>0.10960</td>\n",
              "      <td>0.15990</td>\n",
              "      <td>0.1974</td>\n",
              "      <td>0.12790</td>\n",
              "      <td>...</td>\n",
              "      <td>23.57</td>\n",
              "      <td>25.53</td>\n",
              "      <td>152.50</td>\n",
              "      <td>1709.0</td>\n",
              "      <td>0.1444</td>\n",
              "      <td>0.4245</td>\n",
              "      <td>0.4504</td>\n",
              "      <td>0.2430</td>\n",
              "      <td>0.3613</td>\n",
              "      <td>0.08758</td>\n",
              "    </tr>\n",
              "    <tr>\n",
              "      <th>3</th>\n",
              "      <td>84348301</td>\n",
              "      <td>M</td>\n",
              "      <td>11.42</td>\n",
              "      <td>20.38</td>\n",
              "      <td>77.58</td>\n",
              "      <td>386.1</td>\n",
              "      <td>0.14250</td>\n",
              "      <td>0.28390</td>\n",
              "      <td>0.2414</td>\n",
              "      <td>0.10520</td>\n",
              "      <td>...</td>\n",
              "      <td>14.91</td>\n",
              "      <td>26.50</td>\n",
              "      <td>98.87</td>\n",
              "      <td>567.7</td>\n",
              "      <td>0.2098</td>\n",
              "      <td>0.8663</td>\n",
              "      <td>0.6869</td>\n",
              "      <td>0.2575</td>\n",
              "      <td>0.6638</td>\n",
              "      <td>0.17300</td>\n",
              "    </tr>\n",
              "    <tr>\n",
              "      <th>4</th>\n",
              "      <td>84358402</td>\n",
              "      <td>M</td>\n",
              "      <td>20.29</td>\n",
              "      <td>14.34</td>\n",
              "      <td>135.10</td>\n",
              "      <td>1297.0</td>\n",
              "      <td>0.10030</td>\n",
              "      <td>0.13280</td>\n",
              "      <td>0.1980</td>\n",
              "      <td>0.10430</td>\n",
              "      <td>...</td>\n",
              "      <td>22.54</td>\n",
              "      <td>16.67</td>\n",
              "      <td>152.20</td>\n",
              "      <td>1575.0</td>\n",
              "      <td>0.1374</td>\n",
              "      <td>0.2050</td>\n",
              "      <td>0.4000</td>\n",
              "      <td>0.1625</td>\n",
              "      <td>0.2364</td>\n",
              "      <td>0.07678</td>\n",
              "    </tr>\n",
              "  </tbody>\n",
              "</table>\n",
              "<p>5 rows × 32 columns</p>\n",
              "</div>\n",
              "    <div class=\"colab-df-buttons\">\n",
              "\n",
              "  <div class=\"colab-df-container\">\n",
              "    <button class=\"colab-df-convert\" onclick=\"convertToInteractive('df-a689796e-19af-41e7-b501-12c67affc42b')\"\n",
              "            title=\"Convert this dataframe to an interactive table.\"\n",
              "            style=\"display:none;\">\n",
              "\n",
              "  <svg xmlns=\"http://www.w3.org/2000/svg\" height=\"24px\" viewBox=\"0 -960 960 960\">\n",
              "    <path d=\"M120-120v-720h720v720H120Zm60-500h600v-160H180v160Zm220 220h160v-160H400v160Zm0 220h160v-160H400v160ZM180-400h160v-160H180v160Zm440 0h160v-160H620v160ZM180-180h160v-160H180v160Zm440 0h160v-160H620v160Z\"/>\n",
              "  </svg>\n",
              "    </button>\n",
              "\n",
              "  <style>\n",
              "    .colab-df-container {\n",
              "      display:flex;\n",
              "      gap: 12px;\n",
              "    }\n",
              "\n",
              "    .colab-df-convert {\n",
              "      background-color: #E8F0FE;\n",
              "      border: none;\n",
              "      border-radius: 50%;\n",
              "      cursor: pointer;\n",
              "      display: none;\n",
              "      fill: #1967D2;\n",
              "      height: 32px;\n",
              "      padding: 0 0 0 0;\n",
              "      width: 32px;\n",
              "    }\n",
              "\n",
              "    .colab-df-convert:hover {\n",
              "      background-color: #E2EBFA;\n",
              "      box-shadow: 0px 1px 2px rgba(60, 64, 67, 0.3), 0px 1px 3px 1px rgba(60, 64, 67, 0.15);\n",
              "      fill: #174EA6;\n",
              "    }\n",
              "\n",
              "    .colab-df-buttons div {\n",
              "      margin-bottom: 4px;\n",
              "    }\n",
              "\n",
              "    [theme=dark] .colab-df-convert {\n",
              "      background-color: #3B4455;\n",
              "      fill: #D2E3FC;\n",
              "    }\n",
              "\n",
              "    [theme=dark] .colab-df-convert:hover {\n",
              "      background-color: #434B5C;\n",
              "      box-shadow: 0px 1px 3px 1px rgba(0, 0, 0, 0.15);\n",
              "      filter: drop-shadow(0px 1px 2px rgba(0, 0, 0, 0.3));\n",
              "      fill: #FFFFFF;\n",
              "    }\n",
              "  </style>\n",
              "\n",
              "    <script>\n",
              "      const buttonEl =\n",
              "        document.querySelector('#df-a689796e-19af-41e7-b501-12c67affc42b button.colab-df-convert');\n",
              "      buttonEl.style.display =\n",
              "        google.colab.kernel.accessAllowed ? 'block' : 'none';\n",
              "\n",
              "      async function convertToInteractive(key) {\n",
              "        const element = document.querySelector('#df-a689796e-19af-41e7-b501-12c67affc42b');\n",
              "        const dataTable =\n",
              "          await google.colab.kernel.invokeFunction('convertToInteractive',\n",
              "                                                    [key], {});\n",
              "        if (!dataTable) return;\n",
              "\n",
              "        const docLinkHtml = 'Like what you see? Visit the ' +\n",
              "          '<a target=\"_blank\" href=https://colab.research.google.com/notebooks/data_table.ipynb>data table notebook</a>'\n",
              "          + ' to learn more about interactive tables.';\n",
              "        element.innerHTML = '';\n",
              "        dataTable['output_type'] = 'display_data';\n",
              "        await google.colab.output.renderOutput(dataTable, element);\n",
              "        const docLink = document.createElement('div');\n",
              "        docLink.innerHTML = docLinkHtml;\n",
              "        element.appendChild(docLink);\n",
              "      }\n",
              "    </script>\n",
              "  </div>\n",
              "\n",
              "\n",
              "<div id=\"df-a0fe0855-66ab-469a-bc4a-29ee9e43e25e\">\n",
              "  <button class=\"colab-df-quickchart\" onclick=\"quickchart('df-a0fe0855-66ab-469a-bc4a-29ee9e43e25e')\"\n",
              "            title=\"Suggest charts\"\n",
              "            style=\"display:none;\">\n",
              "\n",
              "<svg xmlns=\"http://www.w3.org/2000/svg\" height=\"24px\"viewBox=\"0 0 24 24\"\n",
              "     width=\"24px\">\n",
              "    <g>\n",
              "        <path d=\"M19 3H5c-1.1 0-2 .9-2 2v14c0 1.1.9 2 2 2h14c1.1 0 2-.9 2-2V5c0-1.1-.9-2-2-2zM9 17H7v-7h2v7zm4 0h-2V7h2v10zm4 0h-2v-4h2v4z\"/>\n",
              "    </g>\n",
              "</svg>\n",
              "  </button>\n",
              "\n",
              "<style>\n",
              "  .colab-df-quickchart {\n",
              "      --bg-color: #E8F0FE;\n",
              "      --fill-color: #1967D2;\n",
              "      --hover-bg-color: #E2EBFA;\n",
              "      --hover-fill-color: #174EA6;\n",
              "      --disabled-fill-color: #AAA;\n",
              "      --disabled-bg-color: #DDD;\n",
              "  }\n",
              "\n",
              "  [theme=dark] .colab-df-quickchart {\n",
              "      --bg-color: #3B4455;\n",
              "      --fill-color: #D2E3FC;\n",
              "      --hover-bg-color: #434B5C;\n",
              "      --hover-fill-color: #FFFFFF;\n",
              "      --disabled-bg-color: #3B4455;\n",
              "      --disabled-fill-color: #666;\n",
              "  }\n",
              "\n",
              "  .colab-df-quickchart {\n",
              "    background-color: var(--bg-color);\n",
              "    border: none;\n",
              "    border-radius: 50%;\n",
              "    cursor: pointer;\n",
              "    display: none;\n",
              "    fill: var(--fill-color);\n",
              "    height: 32px;\n",
              "    padding: 0;\n",
              "    width: 32px;\n",
              "  }\n",
              "\n",
              "  .colab-df-quickchart:hover {\n",
              "    background-color: var(--hover-bg-color);\n",
              "    box-shadow: 0 1px 2px rgba(60, 64, 67, 0.3), 0 1px 3px 1px rgba(60, 64, 67, 0.15);\n",
              "    fill: var(--button-hover-fill-color);\n",
              "  }\n",
              "\n",
              "  .colab-df-quickchart-complete:disabled,\n",
              "  .colab-df-quickchart-complete:disabled:hover {\n",
              "    background-color: var(--disabled-bg-color);\n",
              "    fill: var(--disabled-fill-color);\n",
              "    box-shadow: none;\n",
              "  }\n",
              "\n",
              "  .colab-df-spinner {\n",
              "    border: 2px solid var(--fill-color);\n",
              "    border-color: transparent;\n",
              "    border-bottom-color: var(--fill-color);\n",
              "    animation:\n",
              "      spin 1s steps(1) infinite;\n",
              "  }\n",
              "\n",
              "  @keyframes spin {\n",
              "    0% {\n",
              "      border-color: transparent;\n",
              "      border-bottom-color: var(--fill-color);\n",
              "      border-left-color: var(--fill-color);\n",
              "    }\n",
              "    20% {\n",
              "      border-color: transparent;\n",
              "      border-left-color: var(--fill-color);\n",
              "      border-top-color: var(--fill-color);\n",
              "    }\n",
              "    30% {\n",
              "      border-color: transparent;\n",
              "      border-left-color: var(--fill-color);\n",
              "      border-top-color: var(--fill-color);\n",
              "      border-right-color: var(--fill-color);\n",
              "    }\n",
              "    40% {\n",
              "      border-color: transparent;\n",
              "      border-right-color: var(--fill-color);\n",
              "      border-top-color: var(--fill-color);\n",
              "    }\n",
              "    60% {\n",
              "      border-color: transparent;\n",
              "      border-right-color: var(--fill-color);\n",
              "    }\n",
              "    80% {\n",
              "      border-color: transparent;\n",
              "      border-right-color: var(--fill-color);\n",
              "      border-bottom-color: var(--fill-color);\n",
              "    }\n",
              "    90% {\n",
              "      border-color: transparent;\n",
              "      border-bottom-color: var(--fill-color);\n",
              "    }\n",
              "  }\n",
              "</style>\n",
              "\n",
              "  <script>\n",
              "    async function quickchart(key) {\n",
              "      const quickchartButtonEl =\n",
              "        document.querySelector('#' + key + ' button');\n",
              "      quickchartButtonEl.disabled = true;  // To prevent multiple clicks.\n",
              "      quickchartButtonEl.classList.add('colab-df-spinner');\n",
              "      try {\n",
              "        const charts = await google.colab.kernel.invokeFunction(\n",
              "            'suggestCharts', [key], {});\n",
              "      } catch (error) {\n",
              "        console.error('Error during call to suggestCharts:', error);\n",
              "      }\n",
              "      quickchartButtonEl.classList.remove('colab-df-spinner');\n",
              "      quickchartButtonEl.classList.add('colab-df-quickchart-complete');\n",
              "    }\n",
              "    (() => {\n",
              "      let quickchartButtonEl =\n",
              "        document.querySelector('#df-a0fe0855-66ab-469a-bc4a-29ee9e43e25e button');\n",
              "      quickchartButtonEl.style.display =\n",
              "        google.colab.kernel.accessAllowed ? 'block' : 'none';\n",
              "    })();\n",
              "  </script>\n",
              "</div>\n",
              "    </div>\n",
              "  </div>\n"
            ],
            "application/vnd.google.colaboratory.intrinsic+json": {
              "type": "dataframe",
              "variable_name": "df"
            }
          },
          "metadata": {},
          "execution_count": 3
        }
      ]
    },
    {
      "cell_type": "code",
      "source": [
        "df.drop('id', axis=1, inplace=True) #drop redundant columns"
      ],
      "metadata": {
        "id": "Obld8ggvk8xo"
      },
      "execution_count": null,
      "outputs": []
    },
    {
      "cell_type": "code",
      "source": [
        "df['diagnosis'] = (df['diagnosis'] == 'M').astype(int) #encode the label into 1/0"
      ],
      "metadata": {
        "id": "oUgzKJdUlAFT"
      },
      "execution_count": null,
      "outputs": []
    },
    {
      "cell_type": "code",
      "source": [
        "corr = df.corr()\n",
        "\n"
      ],
      "metadata": {
        "id": "UVZ_makWlECr"
      },
      "execution_count": null,
      "outputs": []
    },
    {
      "cell_type": "code",
      "source": [
        "# Get the absolute value of the correlation\n",
        "cor_target = abs(corr[\"diagnosis\"])\n",
        "\n",
        "# Select highly correlated features (thresold = 0.2)\n",
        "relevant_features = cor_target[cor_target>0.2]\n",
        "\n",
        "# Collect the names of the features\n",
        "names = [index for index, value in relevant_features.items()]\n",
        "\n",
        "# Drop the target variable from the results\n",
        "names.remove('diagnosis')\n",
        "\n",
        "# Display the results\n",
        "print(names)"
      ],
      "metadata": {
        "colab": {
          "base_uri": "https://localhost:8080/"
        },
        "id": "H8-DY0XilIoa",
        "outputId": "24273b94-a227-49c8-c128-7e105d6a52a9"
      },
      "execution_count": null,
      "outputs": [
        {
          "output_type": "stream",
          "name": "stdout",
          "text": [
            "['radius_mean', 'texture_mean', 'perimeter_mean', 'area_mean', 'smoothness_mean', 'compactness_mean', 'concavity_mean', 'concave points_mean', 'symmetry_mean', 'radius_se', 'perimeter_se', 'area_se', 'compactness_se', 'concavity_se', 'concave points_se', 'radius_worst', 'texture_worst', 'perimeter_worst', 'area_worst', 'smoothness_worst', 'compactness_worst', 'concavity_worst', 'concave points_worst', 'symmetry_worst', 'fractal_dimension_worst']\n"
          ]
        }
      ]
    },
    {
      "cell_type": "code",
      "source": [
        "X = df[names].values"
      ],
      "metadata": {
        "id": "73CHOzN1lMOQ"
      },
      "execution_count": null,
      "outputs": []
    },
    {
      "cell_type": "code",
      "source": [
        "class PCA:\n",
        "    \"\"\"\n",
        "    Principal Component Analysis (PCA) class for dimensionality reduction.\n",
        "    \"\"\"\n",
        "\n",
        "    def __init__(self, n_components):\n",
        "        \"\"\"\n",
        "        Constructor method that initializes the PCA object with the number of components to retain.\n",
        "\n",
        "        Args:\n",
        "        - n_components (int): Number of principal components to retain.\n",
        "        \"\"\"\n",
        "        self.n_components = n_components\n",
        "    def fit(self, X):\n",
        "        \"\"\"\n",
        "        Fits the PCA model to the input data and computes the principal components.\n",
        "\n",
        "        Args:\n",
        "        - X (numpy.ndarray): Input data matrix with shape (n_samples, n_features).\n",
        "        \"\"\"\n",
        "        # Compute the mean of the input data along each feature dimension.\n",
        "        mean = np.mean(X, axis=0)\n",
        "\n",
        "        # Subtract the mean from the input data to center it around zero.\n",
        "        X = X - mean\n",
        "\n",
        "        # Compute the covariance matrix of the centered input data.\n",
        "        cov = np.cov(X.T)\n",
        "\n",
        "        # Compute the eigenvectors and eigenvalues of the covariance matrix.\n",
        "        eigenvalues, eigenvectors = np.linalg.eigh(cov)\n",
        "        # Reverse the order of the eigenvalues and eigenvectors.\n",
        "        eigenvalues = eigenvalues[::-1]\n",
        "        eigenvectors = eigenvectors[:,::-1]\n",
        "\n",
        "        # Keep only the first n_components eigenvectors as the principal components.\n",
        "        self.components = eigenvectors[:,:self.n_components]\n",
        "\n",
        "        # Compute the explained variance ratio for each principal component.\n",
        "        # Compute the total variance of the input data\n",
        "        total_variance = np.sum(np.var(X, axis=0))\n",
        "\n",
        "        # Compute the variance explained by each principal component\n",
        "        self.explained_variances = eigenvalues[:self.n_components]\n",
        "\n",
        "        # Compute the explained variance ratio for each principal component\n",
        "        self.explained_variance_ratio_ = self.explained_variances / total_variance\n",
        "    def transform(self, X):\n",
        "        \"\"\"\n",
        "        Transforms the input data by projecting it onto the principal components.\n",
        "\n",
        "        Args:\n",
        "        - X (numpy.ndarray): Input data matrix with shape (n_samples, n_features).\n",
        "\n",
        "        Returns:\n",
        "        - transformed_data (numpy.ndarray): Transformed data matrix with shape (n_samples, n_components).\n",
        "        \"\"\"\n",
        "        # Center the input data around zero using the mean computed during the fit step.\n",
        "        X = X - np.mean(X, axis=0)\n",
        "\n",
        "        # Project the centered input data onto the principal components.\n",
        "        transformed_data = np.dot(X, self.components)\n",
        "\n",
        "        return transformed_data\n",
        "\n",
        "    def fit_transform(self, X):\n",
        "        \"\"\"\n",
        "        Fits the PCA model to the input data and computes the principal components then\n",
        "        transforms the input data by projecting it onto the principal components.\n",
        "\n",
        "        Args:\n",
        "        - X (numpy.ndarray): Input data matrix with shape (n_samples, n_features).\n",
        "        \"\"\"\n",
        "        self.fit(X)\n",
        "        transformed_data = self.transform(X)\n",
        "        return transformed_data"
      ],
      "metadata": {
        "id": "6-LQoTMKlS9E"
      },
      "execution_count": null,
      "outputs": []
    },
    {
      "cell_type": "code",
      "source": [
        "pca = PCA(2)"
      ],
      "metadata": {
        "id": "imUFGA8DlaJs"
      },
      "execution_count": null,
      "outputs": []
    },
    {
      "cell_type": "code",
      "source": [
        "pca.fit(X)"
      ],
      "metadata": {
        "id": "PHM01oyNlcim"
      },
      "execution_count": null,
      "outputs": []
    },
    {
      "cell_type": "code",
      "source": [
        "pca.explained_variance_ratio_"
      ],
      "metadata": {
        "colab": {
          "base_uri": "https://localhost:8080/"
        },
        "id": "JvKhTa_llio6",
        "outputId": "0bd97052-6cfb-4560-d221-d8218609291d"
      },
      "execution_count": null,
      "outputs": [
        {
          "output_type": "execute_result",
          "data": {
            "text/plain": [
              "array([0.98377428, 0.01620498])"
            ]
          },
          "metadata": {},
          "execution_count": 14
        }
      ]
    },
    {
      "cell_type": "code",
      "source": [
        "X_transformed = pca.transform(X)"
      ],
      "metadata": {
        "id": "jKvhbTV6lkYG"
      },
      "execution_count": null,
      "outputs": []
    },
    {
      "cell_type": "code",
      "source": [
        "X_transformed[:,1].shape"
      ],
      "metadata": {
        "colab": {
          "base_uri": "https://localhost:8080/"
        },
        "id": "RTTANDWqlm-h",
        "outputId": "35edeafd-3180-4449-f061-2d9f6bc9a179"
      },
      "execution_count": null,
      "outputs": [
        {
          "output_type": "execute_result",
          "data": {
            "text/plain": [
              "(569,)"
            ]
          },
          "metadata": {},
          "execution_count": 16
        }
      ]
    },
    {
      "cell_type": "code",
      "source": [
        "fig = px.scatter(x=X_transformed[:,0], y=X_transformed[:,1])\n",
        "fig.update_layout(\n",
        "    title=\"PCA transformed data for breast cancer dataset\",\n",
        "    xaxis_title=\"PC1\",\n",
        "    yaxis_title=\"PC2\"\n",
        ")\n",
        "fig.show()"
      ],
      "metadata": {
        "colab": {
          "base_uri": "https://localhost:8080/",
          "height": 542
        },
        "id": "7gHiHVa7lqP4",
        "outputId": "548a9cd3-ba0c-4189-fe28-c280e258908a"
      },
      "execution_count": null,
      "outputs": [
        {
          "output_type": "display_data",
          "data": {
            "text/html": [
              "<html>\n",
              "<head><meta charset=\"utf-8\" /></head>\n",
              "<body>\n",
              "    <div>            <script src=\"https://cdnjs.cloudflare.com/ajax/libs/mathjax/2.7.5/MathJax.js?config=TeX-AMS-MML_SVG\"></script><script type=\"text/javascript\">if (window.MathJax && window.MathJax.Hub && window.MathJax.Hub.Config) {window.MathJax.Hub.Config({SVG: {font: \"STIX-Web\"}});}</script>                <script type=\"text/javascript\">window.PlotlyConfig = {MathJaxConfig: 'local'};</script>\n",
              "        <script charset=\"utf-8\" src=\"https://cdn.plot.ly/plotly-2.24.1.min.js\"></script>                <div id=\"a21a41d9-9fc9-48ab-a57d-6dd048a3551a\" class=\"plotly-graph-div\" style=\"height:525px; width:100%;\"></div>            <script type=\"text/javascript\">                                    window.PLOTLYENV=window.PLOTLYENV || {};                                    if (document.getElementById(\"a21a41d9-9fc9-48ab-a57d-6dd048a3551a\")) {                    Plotly.newPlot(                        \"a21a41d9-9fc9-48ab-a57d-6dd048a3551a\",                        [{\"hovertemplate\":\"x=%{x}\\u003cbr\\u003ey=%{y}\\u003cextra\\u003e\\u003c\\u002fextra\\u003e\",\"legendgroup\":\"\",\"marker\":{\"color\":\"#636efa\",\"symbol\":\"circle\"},\"mode\":\"markers\",\"name\":\"\",\"orientation\":\"v\",\"showlegend\":false,\"x\":[1160.1425558535864,1269.1224144040768,995.7938630921958,-407.18080723540623,930.3411538351021,-211.59128072181653,821.2108726847126,-25.089967206279436,-191.29284880870878,-238.29283878374366,304.68781672426934,424.36111402629507,634.5144897184746,63.042681756611714,-196.44121302973207,56.004670984516046,235.8581214859121,447.3927712274289,1615.0934428660496,-191.62107370167394,-285.0513060748177,-683.5839693926221,112.5604260905052,1873.7331139645528,1273.7306385847055,634.8797542170679,8.591826054019869,677.7845685430224,373.7198688921136,453.6780641231927,903.9812970818527,-103.6893239479215,524.9452154113759,1062.1715480162745,404.38590045585426,410.0497374324724,-80.65780763085519,-355.87777723211366,-128.9730928653013,-170.24576387628676,-127.99478650920834,-462.0279949365955,897.0274582683263,-34.37522708681752,-184.7074024130481,807.5645389615397,-783.8386863928139,-166.75720490123354,-362.6995391379805,-205.11173599423256,-430.03408116493586,-235.89354989967265,-416.4695457416504,576.3603336190467,157.40405429138653,-448.98273693479064,1342.138566645579,90.99894520937127,-286.1454366719549,-744.0918778738703,-616.7297073818147,-745.6007541826575,64.40838969411293,-693.9616325279377,-74.27680736647149,45.175433947229386,-672.376653726938,-490.87954807271194,-687.2232020394275,-358.98189600673703,1092.4010227851384,-724.6626081865619,828.5811887297893,-95.55640069814976,-327.21553593398977,379.6023742201165,-285.2781330002264,811.3899628922671,946.8659036215365,-299.2502044335931,-436.50387793458395,-298.36266963158056,2077.4059598807294,606.8244381771846,-378.6613841998385,838.2360521101856,-64.46301916690216,854.6137645855406,-360.50010478802557,-66.79165849146665,-61.942491422895394,-4.737107637782758,-96.55625667479379,-207.4772025295923,150.75302117265574,1062.2037828331306,-436.3735292152713,-628.7692433276823,-442.1212945977499,-53.10551166046536,-15.097020623893568,-863.1422906310521,-388.0270170866481,-631.210194683483,-575.3755741807166,-110.47838085277927,-433.8558470024866,-387.2586109125315,1716.4192465984722,-445.5942764550867,-629.9309196257439,-393.49558049648215,-159.55007263902417,-600.7745017768465,-732.3506010482281,-367.752328462781,-736.7440227273929,198.25070436367253,402.2178612399023,495.8869015867722,-448.9325975099016,793.4673302084847,1604.798532362677,-123.52461925691811,-266.5533254519455,-167.7471516266488,-70.65064864239092,815.3241689190714,-90.24697948704372,885.9992738121389,-391.36856087189136,284.9481046349969,332.77569143446436,91.16658323600957,826.1321278158406,-272.44395521045243,-406.0459495256241,-492.1186914193177,93.69535836151904,-523.163449703201,-652.2748542767599,385.44959955748897,-457.449084902624,-277.6490286635727,-532.841585148372,-433.33213610927857,-363.4605223088182,-42.358506949265426,-105.46870665990708,-169.62938537314673,-296.3114391305305,-776.088557044873,-611.7499078039446,-519.5616301690433,-234.88476894356216,-373.0137268272664,523.8767799765278,247.0710178579028,-406.2090873277897,-502.2935956650713,-409.9783918712829,790.6213553052884,1448.4283513807738,-379.99081215547096,1839.3688661099536,-67.10632806217663,-555.4062642493761,446.2026879386948,842.4144638903857,-58.892481779279684,-383.8674899313782,50.487702997016065,232.51512765573298,-562.0949643954372,-563.8449971377859,-755.9676535882329,-603.4440684733383,178.68854044412475,-300.73414415097767,-342.0388928494109,2828.2414619214615,1376.392285458984,390.1991535518427,-486.0239510339365,107.05823340896839,-555.7488376089599,652.5820582154671,-430.2481231644592,-453.4657914878267,-386.0674120675587,-124.35080821444497,-333.29832524452735,-685.4694046744903,-187.83076353706608,-73.13317860812994,-312.69734144790675,-96.1623637917298,490.81803617166844,947.8732118065726,132.4197140999619,-308.52588114964,461.21778782574233,1482.6088810833269,204.4186456191581,-263.6234476007783,124.66999837438576,-658.2074529322113,412.94290019231187,-272.4127576259751,80.26983644631679,997.0514911190195,-405.09299375610533,2366.700730034744,273.63830141388297,-81.93354509281433,-151.6218895294916,-415.42808721384085,-582.3541056301586,1267.9599667431953,1662.8153581061351,-194.8765735719887,-215.20654744289354,-611.0931165160081,232.6157001852807,-204.01511490569675,-12.781409955711982,-585.7551533221348,-46.99964432133518,-302.94397228463345,-228.327745673814,388.50430358167654,-502.72110496086555,-491.1508669845227,1194.0117348179695,-662.8705390850741,-168.80288806185467,2296.4799766785845,1083.9297398099668,-116.08616297729392,589.7968100019713,-210.733402039749,-382.93118781699224,-487.582311185292,-182.89247256861148,719.906419769847,-574.5744182594747,-298.65069219335476,-281.2557881459485,-524.7691418920436,-462.96034661145984,1338.8984280370792,-447.2489641606966,1188.532673200019,433.7297521550168,1201.4375436501177,-73.88627141911871,1184.9305140157594,73.35753367248147,363.60723980144076,178.60649937113322,1153.0743563427593,433.284778309286,509.67970082689425,145.3696692679807,617.2429373253876,2584.828173613568,-550.8155388355084,-236.59217387273947,-317.4472305210152,-564.288124517023,-180.88441873259183,-502.1586174710469,1726.094775103433,-640.723389855621,554.7930749566646,-462.64778644502326,-497.11807664743463,535.8522806292825,-164.87330557633618,-216.0549095617928,973.8915385831838,-415.13364656038226,894.4191272314425,206.70010355617413,-316.321397278354,-357.9357392282342,-397.8346299224844,-333.4563388378734,-514.6765196951519,-496.15534095248756,-96.62630831065499,-44.150725320100236,-327.0230489826274,-427.17330941329635,-365.5121697213227,-226.42316698041984,-570.8850908434084,-395.5123917294597,-64.34433506682409,-610.8851037486753,1299.2324579173228,-377.5103538291226,1010.0107502366163,-600.5741110658905,-465.98837092802484,-470.29602249479274,-270.8681207011436,-723.5675562677502,-202.78425749893893,-243.066663718894,-464.33067022308825,-29.530671125703297,-302.98909857844103,-482.5002824769968,-775.0548461576748,-379.3529589885905,-416.3482991286914,710.4537491742484,-713.2698786759091,-404.81294949187384,-592.3004609301144,987.0230786531522,-319.4837620737082,1222.212514262107,-357.8126876983914,-348.76582113534494,-132.65800409729607,-415.4243313870526,288.84443053469585,171.32542768832707,233.81929731340387,-284.4519285397535,-520.4291289049869,-470.8422425549553,-388.1389301854223,551.6560825256868,-334.9556286956098,1078.0479621557165,-605.035247210107,2304.21757877859,-23.014171705540793,-647.0164504287798,-524.4292743414917,845.9472129373439,-434.234505726968,-622.2552534872657,-382.09743507284674,7.114963252229559,-478.9000264897862,-447.9988800024279,-411.6147250490388,84.93189734285386,2721.000883360318,178.49343482944124,-506.4149210021644,-373.2918646010304,-322.3788307575604,-192.01670570967266,-710.8782274820529,-573.5127551858973,-337.66284853274243,-279.26415900785696,-340.8093554100143,204.75702074874164,-240.38044168246265,1102.1770757355969,980.5215152024948,-322.05404286121905,2404.9422842518675,1586.1282620644622,340.25236385384744,-24.214632877920817,939.3997288482587,1265.8824641609583,-220.14168640811067,52.152889642988164,-618.2891778082386,-220.45441393220628,-231.15310005160123,-471.86726100385187,-486.64861109441995,-518.9773065417572,-444.380403705293,-340.0812346022316,-279.52960313625846,-99.76973270018868,-401.12754497326193,-146.8905534114184,-505.8081458523182,641.4980326011789,-590.7193257208046,-701.7312939996108,457.6872672338191,1418.9768678186467,-383.90773489320645,-192.91554448223891,-226.83532562867762,-324.2230519246135,-473.75757295858,-389.2302655041979,539.3990617621332,-360.47075499399114,-289.40548757930117,-334.3066280953479,-394.3593634075673,-497.86147992645414,132.17332495703175,-273.66917477988216,576.2095664446782,-330.16416865080106,-441.2479309641618,-497.8676352408326,-698.4528198816864,8.282184706422752,77.34966318146127,-421.8636654456189,-646.3087477109747,826.2111435199712,-352.5999656537581,-505.32486142071633,-436.3379955744552,-59.15735428501779,-475.74293758480775,-189.06451055190624,-617.1943515579255,-613.8294359063359,-544.4131626392483,-488.8048565398344,-537.1739933471383,-331.9930861389235,-24.865813596760038,-410.1868260050943,821.5897158064508,857.3902294382568,-79.1889642394456,-39.12098989317946,-293.17036434239924,-134.669901703556,-145.25070063189534,-190.16497338599487,-493.6908338176063,488.37625953939954,-185.145295221994,-604.8228858199379,525.7068481227755,-425.63351391967046,646.046216896029,-34.32418032159188,-41.021309699532,1356.459952125651,-436.1925634792296,741.3849023233495,-416.9411217397056,-117.87136706082254,-296.96900044391555,-200.88090702659966,-427.105792451022,-273.8215491798761,-286.5887657368866,-644.928858234447,803.7161090540994,3867.1780672015425,-130.33438727689892,-457.0541889574569,-227.411062445457,-183.92816176920053,-225.3955267299636,-620.8721664424869,648.8111359399961,-429.74817572223253,-615.058969694838,-373.8722069139159,38.1305032886851,-373.8931769702461,-538.1164870573189,-313.28266817384707,-63.49268562228617,-168.34390898868213,-484.481545720516,134.50324649999007,-389.80895519708014,-70.46298516288957,-246.25863518687268,-210.51343886975948,24.43465259053629,-349.09183913816355,-37.629087965553275,1002.1485191592574,-405.35320791104465,278.67937630696554,-319.37251289615256,457.3393960412249,652.2445344538468,-389.6945113487787,-259.64169353798485,-70.23446694581533,-300.03014889105145,-325.929011355124,832.6097639689159,1099.4868907983503,-2.3067811510885834,-109.46468086545816,-374.935092932481,2166.185138887149,-708.6523755521954,-672.5911051552592,-418.6533225233147,-552.9796764866746,125.26149823754258,64.59656074656664,-468.33568164973263,-90.54709705695977,-81.75389021735215,-13.883030428047094,98.35553499216284,-482.1490414886333,731.3671790417272,946.2959261172279,-260.05262876803255,-303.49257024571386,-681.5836480809413,2127.018077078084,-520.8085294288483,-196.89352061860117,-620.5612056626787,-745.0221570772034,-192.43071013386864,-368.577888744236,-225.5233775925124,-392.92906531056656,-401.6743440632123,-407.53585445034827,-134.10344010662757,991.3787658781698,-556.6167751477481,1135.5819351776552,-143.99452634873907,-465.866489089853,-790.313227511353,-815.9802517696864,-493.6478977292248,-60.782520772604855,-39.66206106879615,-276.25783910862003,-201.25408988492427,-171.8411616044018,-597.2254314539691,-623.0765067528979,-635.0640342920841,-473.47270751057374,-554.7642659443792,-524.6600410264848,-322.05433319618515,-704.9669920364553,-317.92632893136806,-622.2144710047827,-636.0462003544145,-670.6769170624975,-125.2451430752028,-479.3355980673517,-177.2427984035049,-518.0116897821906,61.94079799651798,1167.136967720972,1414.126689195688,1045.0189377909924,314.5017476011919,1124.8581423370947,-771.5276097878921],\"xaxis\":\"x\",\"y\":[293.9174890487666,-15.630330730272892,-39.15687301723286,67.38029545848481,-189.3408841062519,79.8773315403497,47.149529457340435,74.18607702030911,42.1264118140339,65.38663876054322,17.725054263887554,109.22023281659223,-167.20460286283762,-111.67763062184588,-29.657959571755864,29.148285707521307,108.42566143282612,102.1515301736007,270.333331181268,-12.259334073711656,-14.557535779751916,32.57603115398659,9.160378960758633,260.19607205382795,479.32136557252954,79.93161897575641,16.984335799263643,-104.82442889459956,135.3347044406781,-77.40008835758302,38.91030132394619,187.6852694109764,31.227703659475477,50.23995663561422,67.0793664582137,-2.864230136201282,-23.36360195174795,-61.53518753525686,-132.60654245140142,9.054650962721913,30.687358673048553,52.802654811279005,15.17223420955011,107.67262899855649,33.08044256240281,-4.271558750831309,56.826453812730634,40.01456860542084,21.21521779979585,-13.940246817157119,5.319676401069089,-45.13071890339056,2.5704751260892906,-95.45157993969852,28.15661539001237,16.141103105643047,231.14830369067266,52.66422970940602,-23.93330523663391,54.30059326471079,27.73531736878849,56.16483081057341,48.46998206164025,41.221544318060296,137.5430644927921,11.522681826449348,44.88272988994933,8.46021531060968,57.79595108447467,-38.7106222140739,105.03564335328745,42.227969215772056,180.66783397611127,25.01713082490418,17.594173742757086,38.20136786088436,-61.34655536309982,77.41718183625288,-120.57389827440782,-7.078353974358689,32.45066245796197,-22.672258580894194,-173.51822014798287,-191.9227795070941,18.841000618532668,15.47451628248468,-31.640919329968817,25.18435237024527,2.8286587302776014,-37.836942961071756,-46.67279163008008,-88.70365448527562,62.35467568263739,-8.710358261618488,31.26627712022428,-69.8320503390761,-25.75374524160977,41.65587185650287,16.25715308775509,-17.59617061124271,75.33597774699479,77.39961092446163,-4.613075856858287,35.82480860510529,24.892323879190595,78.76466054030253,21.210666560979213,-13.49968390182053,36.548897648713144,33.179052827068695,45.668878952617256,-34.15458039475819,-68.20408777879274,11.69182995883673,53.75463772876289,30.6878155799451,33.80945697803895,87.51005513035811,93.71466502771368,-82.41878285274164,23.222358274119305,-14.432557048462684,-328.66686644905013,-58.30177418280019,-42.26310344566069,-23.655866892736388,54.09736626725604,-72.1538075262228,-78.61448363979063,-91.83357183104643,-3.8339144663170877,62.39187273537784,20.21904884662638,-69.69085277120654,8.924614225127275,9.516510848219793,24.617794604825125,1.0893779965529555,26.591823955320912,-0.8732981662079974,34.63844169390087,47.383380631329786,23.89732282784709,-0.8771424079125822,28.434755646366295,-2.7699546950452345,40.66852695276107,-66.6971876726859,-46.56118536056557,-20.523244704389775,-21.176154321232275,59.07362723109855,43.852628889854024,5.354019500310284,-6.375445080783142,2.359682268468281,-46.05367025310723,-114.29562482481043,-3.983403658895311,33.53415695791294,26.30244747802717,-111.27219534672912,223.24076287915634,-7.119116994156317,-91.28899642787735,-81.31255756209002,12.222577656325365,-1.2249207668312083,122.19229925545876,-71.7686088311407,-8.912071988914304,135.3955131369433,44.384807468757046,-9.808332184522063,16.18697307553504,43.840932729424374,47.208874047067106,-100.33920140840361,-30.927491535846645,-35.944006058567716,-151.24843602457133,65.75967194239394,106.22409258780375,1.7536640396978,0.3819416267351443,58.67937417521634,-55.345525924807895,14.406016924094443,-9.496627985700425,-9.761808158680516,-23.02528228633406,-30.343451803094617,14.723510027357277,94.08401084646123,-64.28047286394273,-26.823003590225788,18.049875799114943,-135.75390076249434,-2.667584279478789,95.37937575166534,40.27794641282196,-67.93657029215063,-307.416987950507,190.3835430458072,42.76848993887494,3.633878963262882,22.916108305787546,-42.59309753785199,-17.946692877144432,-33.45207799516153,-141.21586006975238,20.742050562254764,-739.6207359869979,-178.22685207771266,1.780527024488423,-2.880166295676758,9.195525073917372,38.215545624593496,93.60124000098003,343.27912930406757,-17.095137147986055,-20.867190061656196,30.543159442339537,16.60872223821681,3.6861294059072813,7.5950600420258345,26.66106435276225,-63.13537041806205,2.576784376179132,39.08891104477378,-45.547553918545454,-0.1579182812819413,17.22586662473309,-53.17520557153931,38.7228719100911,-41.60104656248592,203.09925590750638,-105.6598091779314,-33.934809292765635,46.66232012447165,-34.39813107200943,-22.289703872840175,15.619464730858843,-35.22324076698649,-149.652001590302,23.654722172823565,-47.56780763261494,-3.452259225596996,43.287288110186324,10.932132041493228,-20.729453266750184,18.88374513942305,74.67431061872963,-56.66977429510318,126.87778036111874,16.358585763600022,70.06963380701129,-25.5982822680523,76.68983107836826,3.3267200467487554,-41.07057706741786,-62.777950010790086,-35.90117615420164,-32.50073138093067,54.542925764209166,671.5325082434471,27.39889741559446,-33.41854229877332,-24.84443024891489,21.25997818430813,-82.62422746378238,8.767406426605108,64.80936855123554,39.891552507581586,-66.04526560201509,-24.510345008453758,1.739148329674593,-197.97601801645513,-2.6825688002043493,-51.67893242143364,24.58841017885471,14.609555851777158,-31.331028151192736,-50.76282968658519,-29.77854548311317,-22.312664241878807,9.414905182499856,-38.694736740103316,-6.926795042383207,3.006962358768582,-56.14701128031684,-64.5993670679321,-32.50468625505771,1.9538366973119332,-30.50060263779333,-52.29920379292268,-4.2811363365062185,21.662310549543932,-12.896849324598632,5.745211184887504,127.45441071554173,-13.964722483936105,-83.91092652149234,12.331581280261544,12.618791597167185,-6.159942922595968,-25.878148418380004,41.16819447418248,-18.571600819134368,-1.8114606489357388,-4.044332765416442,-29.229864192772567,-7.023445924803467,-3.970960186147057,39.07994634344532,-26.286499883062685,-25.19446973836817,-4.611922666206735,48.44569477111721,-37.42840391009341,28.600999769189677,-126.63016330745644,-17.55791085125675,27.80353883370659,14.16710421882236,-17.80801840439684,-35.0966893973911,-6.569700692023696,-11.239592374331412,-98.38305572660111,-20.255872215314962,-7.416428745080288,-1.6429981020342057,25.481475106516648,-11.381519355255515,24.06464391361987,-37.98135512906202,141.25047897218434,36.953182935724115,117.53506711761275,1.914434048962952,47.125319997027326,11.803629458927803,-119.00061690399248,11.63505389113193,13.533255453479816,14.423899084229443,-11.868322052697867,5.78250534944589,-4.479247864694361,24.702356023188973,-71.36341757984842,62.73622286105248,35.047135691093544,9.527022606849053,-28.44258550583754,-28.122069358043404,-44.29087274282056,54.05300951040065,93.44912692780194,-13.603207893046973,-41.51804553916821,-20.72874608037938,-90.21165315617048,-24.968295368407837,-78.98768140234714,-85.49726894848249,35.33906200122066,412.3091772174151,-8.948403331126402,-11.238959397846521,-80.77824457807499,-285.852941298071,-28.63933188439517,-44.19987203675631,-124.55143784052173,-3.493509714290682,-24.165546268318135,-52.56321110138994,57.72268792872266,19.861304486951177,16.573351689397537,-26.30573080516347,18.813914673488934,-36.72505859673942,-71.94980187022175,-17.063128004142694,-20.388303475836047,1.3589071520330072,-219.95563597413604,32.99960649999086,67.7319957704476,171.34290098559592,-20.357259546476296,11.905679283194749,-62.57286777695338,-23.87507137572534,-25.065905343772133,37.67409822951646,25.524462830029027,-70.83073674860114,30.53232696814804,-23.345451901129977,-29.56075070808542,-21.525796679775826,32.00797444001304,-89.36493177885193,-1.8290239670740804,-45.16651093620781,21.29714420578737,32.135553381944156,28.82728521141847,29.991080606689238,-40.24887020326309,-28.7904343980815,3.600932090016451,58.21363538616008,322.9015745793368,-26.095767252289896,15.816145398291077,23.007980845546086,-38.710643805640245,0.8489952125606137,-21.171396173123554,53.227393837457164,36.08730599435689,46.54311632268211,49.738772234094945,-4.072026788767367,-21.100971863130376,-51.020179406820105,-29.41029759783467,-198.6761783380949,-14.629075108606758,-69.74161730196886,41.60487248662406,-7.068873309912714,-30.52397992307899,-14.958109120222959,-58.194637568717084,32.79683855166238,-24.943896634737428,-31.468232041639514,1.9411917609541676,-73.27598051465549,-7.489622115992326,9.448424942294434,-43.65023224507832,-30.108423955849656,-30.999352665323755,-3.0450308749789197,-178.11100890637283,-3.2147250587244884,-58.96019323948849,10.44024771142018,-7.045187633399277,22.324280468775584,-28.276774143802175,-15.449775103057902,36.56049114005038,162.09870372101588,171.01763815093761,-68.15359395198672,7.285287735207904,0.5026960070411864,19.402743534461916,1.4659501780086717,56.00230294999861,9.678333396488988,27.50719093263908,56.189863758028245,12.997654215497942,-14.015074679775882,-4.62331401547506,21.068167923146365,-16.054875598522493,4.079786939863718,-36.43830054254377,-0.41958611929249945,-107.45730614588597,-2.076024355657769,18.559993112271624,-21.65330848724785,-29.118663805221715,-92.96072091288259,-3.5388059801801264,-35.23664000251291,7.998283524380768,28.820521905305363,-67.77164146440406,27.68522894345415,-117.67466439910906,-18.50936252121229,-28.048641146303048,-21.1048052792688,-72.65148269171546,16.597447992674155,7.778368728250601,19.68375092472655,-112.59740893677144,-42.173290572580385,2.2293766199998886,-17.87012422228889,108.42251133033258,46.309916556118836,40.410296396185124,-16.975993508188008,3.1068780389532336,-116.51037290971628,-50.65061883707528,-15.365259813186256,-84.70315531319494,65.15690982988185,-13.242425357632225,4.575810078787526,17.04328174776392,-22.000346555919702,-81.05062012696362,31.31502242999253,4.545915050807712,52.401024350723034,-100.28774084043489,-2.302194047259628,-21.1030755993287,48.09378470712819,57.43149193463429,5.308146161317565,-4.341844312850535,-66.5175704719317,7.665866055900595,28.11497404581331,33.116294572661175,12.2785387405952,-154.52657109433693,2.1266950939363256,-77.07468865360006,-57.604467225035926,8.713649733344633,79.81657021921917,74.33650042484074,-3.930788866876139,-38.560767647030715,-39.81476855875163,-30.42180639983565,-39.81830783857312,-8.356022962933194,25.310201855826524,14.523166751121652,48.23464583122267,56.553649430008996,9.017152796126423,6.280877282289615,-22.37401127903461,31.301465892253006,-27.36936821463349,14.274663030357628,17.04389389775731,43.20755012715138,-78.4234812677813,4.378452371374158,-43.72305337546089,1.5317807321042123,-35.2648109149963,-105.59672238561761,-110.22244338974014,-77.05713375194604,-47.55357165290173,-34.12907293586504,88.64317409426852],\"yaxis\":\"y\",\"type\":\"scatter\"}],                        {\"template\":{\"data\":{\"histogram2dcontour\":[{\"type\":\"histogram2dcontour\",\"colorbar\":{\"outlinewidth\":0,\"ticks\":\"\"},\"colorscale\":[[0.0,\"#0d0887\"],[0.1111111111111111,\"#46039f\"],[0.2222222222222222,\"#7201a8\"],[0.3333333333333333,\"#9c179e\"],[0.4444444444444444,\"#bd3786\"],[0.5555555555555556,\"#d8576b\"],[0.6666666666666666,\"#ed7953\"],[0.7777777777777778,\"#fb9f3a\"],[0.8888888888888888,\"#fdca26\"],[1.0,\"#f0f921\"]]}],\"choropleth\":[{\"type\":\"choropleth\",\"colorbar\":{\"outlinewidth\":0,\"ticks\":\"\"}}],\"histogram2d\":[{\"type\":\"histogram2d\",\"colorbar\":{\"outlinewidth\":0,\"ticks\":\"\"},\"colorscale\":[[0.0,\"#0d0887\"],[0.1111111111111111,\"#46039f\"],[0.2222222222222222,\"#7201a8\"],[0.3333333333333333,\"#9c179e\"],[0.4444444444444444,\"#bd3786\"],[0.5555555555555556,\"#d8576b\"],[0.6666666666666666,\"#ed7953\"],[0.7777777777777778,\"#fb9f3a\"],[0.8888888888888888,\"#fdca26\"],[1.0,\"#f0f921\"]]}],\"heatmap\":[{\"type\":\"heatmap\",\"colorbar\":{\"outlinewidth\":0,\"ticks\":\"\"},\"colorscale\":[[0.0,\"#0d0887\"],[0.1111111111111111,\"#46039f\"],[0.2222222222222222,\"#7201a8\"],[0.3333333333333333,\"#9c179e\"],[0.4444444444444444,\"#bd3786\"],[0.5555555555555556,\"#d8576b\"],[0.6666666666666666,\"#ed7953\"],[0.7777777777777778,\"#fb9f3a\"],[0.8888888888888888,\"#fdca26\"],[1.0,\"#f0f921\"]]}],\"heatmapgl\":[{\"type\":\"heatmapgl\",\"colorbar\":{\"outlinewidth\":0,\"ticks\":\"\"},\"colorscale\":[[0.0,\"#0d0887\"],[0.1111111111111111,\"#46039f\"],[0.2222222222222222,\"#7201a8\"],[0.3333333333333333,\"#9c179e\"],[0.4444444444444444,\"#bd3786\"],[0.5555555555555556,\"#d8576b\"],[0.6666666666666666,\"#ed7953\"],[0.7777777777777778,\"#fb9f3a\"],[0.8888888888888888,\"#fdca26\"],[1.0,\"#f0f921\"]]}],\"contourcarpet\":[{\"type\":\"contourcarpet\",\"colorbar\":{\"outlinewidth\":0,\"ticks\":\"\"}}],\"contour\":[{\"type\":\"contour\",\"colorbar\":{\"outlinewidth\":0,\"ticks\":\"\"},\"colorscale\":[[0.0,\"#0d0887\"],[0.1111111111111111,\"#46039f\"],[0.2222222222222222,\"#7201a8\"],[0.3333333333333333,\"#9c179e\"],[0.4444444444444444,\"#bd3786\"],[0.5555555555555556,\"#d8576b\"],[0.6666666666666666,\"#ed7953\"],[0.7777777777777778,\"#fb9f3a\"],[0.8888888888888888,\"#fdca26\"],[1.0,\"#f0f921\"]]}],\"surface\":[{\"type\":\"surface\",\"colorbar\":{\"outlinewidth\":0,\"ticks\":\"\"},\"colorscale\":[[0.0,\"#0d0887\"],[0.1111111111111111,\"#46039f\"],[0.2222222222222222,\"#7201a8\"],[0.3333333333333333,\"#9c179e\"],[0.4444444444444444,\"#bd3786\"],[0.5555555555555556,\"#d8576b\"],[0.6666666666666666,\"#ed7953\"],[0.7777777777777778,\"#fb9f3a\"],[0.8888888888888888,\"#fdca26\"],[1.0,\"#f0f921\"]]}],\"mesh3d\":[{\"type\":\"mesh3d\",\"colorbar\":{\"outlinewidth\":0,\"ticks\":\"\"}}],\"scatter\":[{\"fillpattern\":{\"fillmode\":\"overlay\",\"size\":10,\"solidity\":0.2},\"type\":\"scatter\"}],\"parcoords\":[{\"type\":\"parcoords\",\"line\":{\"colorbar\":{\"outlinewidth\":0,\"ticks\":\"\"}}}],\"scatterpolargl\":[{\"type\":\"scatterpolargl\",\"marker\":{\"colorbar\":{\"outlinewidth\":0,\"ticks\":\"\"}}}],\"bar\":[{\"error_x\":{\"color\":\"#2a3f5f\"},\"error_y\":{\"color\":\"#2a3f5f\"},\"marker\":{\"line\":{\"color\":\"#E5ECF6\",\"width\":0.5},\"pattern\":{\"fillmode\":\"overlay\",\"size\":10,\"solidity\":0.2}},\"type\":\"bar\"}],\"scattergeo\":[{\"type\":\"scattergeo\",\"marker\":{\"colorbar\":{\"outlinewidth\":0,\"ticks\":\"\"}}}],\"scatterpolar\":[{\"type\":\"scatterpolar\",\"marker\":{\"colorbar\":{\"outlinewidth\":0,\"ticks\":\"\"}}}],\"histogram\":[{\"marker\":{\"pattern\":{\"fillmode\":\"overlay\",\"size\":10,\"solidity\":0.2}},\"type\":\"histogram\"}],\"scattergl\":[{\"type\":\"scattergl\",\"marker\":{\"colorbar\":{\"outlinewidth\":0,\"ticks\":\"\"}}}],\"scatter3d\":[{\"type\":\"scatter3d\",\"line\":{\"colorbar\":{\"outlinewidth\":0,\"ticks\":\"\"}},\"marker\":{\"colorbar\":{\"outlinewidth\":0,\"ticks\":\"\"}}}],\"scattermapbox\":[{\"type\":\"scattermapbox\",\"marker\":{\"colorbar\":{\"outlinewidth\":0,\"ticks\":\"\"}}}],\"scatterternary\":[{\"type\":\"scatterternary\",\"marker\":{\"colorbar\":{\"outlinewidth\":0,\"ticks\":\"\"}}}],\"scattercarpet\":[{\"type\":\"scattercarpet\",\"marker\":{\"colorbar\":{\"outlinewidth\":0,\"ticks\":\"\"}}}],\"carpet\":[{\"aaxis\":{\"endlinecolor\":\"#2a3f5f\",\"gridcolor\":\"white\",\"linecolor\":\"white\",\"minorgridcolor\":\"white\",\"startlinecolor\":\"#2a3f5f\"},\"baxis\":{\"endlinecolor\":\"#2a3f5f\",\"gridcolor\":\"white\",\"linecolor\":\"white\",\"minorgridcolor\":\"white\",\"startlinecolor\":\"#2a3f5f\"},\"type\":\"carpet\"}],\"table\":[{\"cells\":{\"fill\":{\"color\":\"#EBF0F8\"},\"line\":{\"color\":\"white\"}},\"header\":{\"fill\":{\"color\":\"#C8D4E3\"},\"line\":{\"color\":\"white\"}},\"type\":\"table\"}],\"barpolar\":[{\"marker\":{\"line\":{\"color\":\"#E5ECF6\",\"width\":0.5},\"pattern\":{\"fillmode\":\"overlay\",\"size\":10,\"solidity\":0.2}},\"type\":\"barpolar\"}],\"pie\":[{\"automargin\":true,\"type\":\"pie\"}]},\"layout\":{\"autotypenumbers\":\"strict\",\"colorway\":[\"#636efa\",\"#EF553B\",\"#00cc96\",\"#ab63fa\",\"#FFA15A\",\"#19d3f3\",\"#FF6692\",\"#B6E880\",\"#FF97FF\",\"#FECB52\"],\"font\":{\"color\":\"#2a3f5f\"},\"hovermode\":\"closest\",\"hoverlabel\":{\"align\":\"left\"},\"paper_bgcolor\":\"white\",\"plot_bgcolor\":\"#E5ECF6\",\"polar\":{\"bgcolor\":\"#E5ECF6\",\"angularaxis\":{\"gridcolor\":\"white\",\"linecolor\":\"white\",\"ticks\":\"\"},\"radialaxis\":{\"gridcolor\":\"white\",\"linecolor\":\"white\",\"ticks\":\"\"}},\"ternary\":{\"bgcolor\":\"#E5ECF6\",\"aaxis\":{\"gridcolor\":\"white\",\"linecolor\":\"white\",\"ticks\":\"\"},\"baxis\":{\"gridcolor\":\"white\",\"linecolor\":\"white\",\"ticks\":\"\"},\"caxis\":{\"gridcolor\":\"white\",\"linecolor\":\"white\",\"ticks\":\"\"}},\"coloraxis\":{\"colorbar\":{\"outlinewidth\":0,\"ticks\":\"\"}},\"colorscale\":{\"sequential\":[[0.0,\"#0d0887\"],[0.1111111111111111,\"#46039f\"],[0.2222222222222222,\"#7201a8\"],[0.3333333333333333,\"#9c179e\"],[0.4444444444444444,\"#bd3786\"],[0.5555555555555556,\"#d8576b\"],[0.6666666666666666,\"#ed7953\"],[0.7777777777777778,\"#fb9f3a\"],[0.8888888888888888,\"#fdca26\"],[1.0,\"#f0f921\"]],\"sequentialminus\":[[0.0,\"#0d0887\"],[0.1111111111111111,\"#46039f\"],[0.2222222222222222,\"#7201a8\"],[0.3333333333333333,\"#9c179e\"],[0.4444444444444444,\"#bd3786\"],[0.5555555555555556,\"#d8576b\"],[0.6666666666666666,\"#ed7953\"],[0.7777777777777778,\"#fb9f3a\"],[0.8888888888888888,\"#fdca26\"],[1.0,\"#f0f921\"]],\"diverging\":[[0,\"#8e0152\"],[0.1,\"#c51b7d\"],[0.2,\"#de77ae\"],[0.3,\"#f1b6da\"],[0.4,\"#fde0ef\"],[0.5,\"#f7f7f7\"],[0.6,\"#e6f5d0\"],[0.7,\"#b8e186\"],[0.8,\"#7fbc41\"],[0.9,\"#4d9221\"],[1,\"#276419\"]]},\"xaxis\":{\"gridcolor\":\"white\",\"linecolor\":\"white\",\"ticks\":\"\",\"title\":{\"standoff\":15},\"zerolinecolor\":\"white\",\"automargin\":true,\"zerolinewidth\":2},\"yaxis\":{\"gridcolor\":\"white\",\"linecolor\":\"white\",\"ticks\":\"\",\"title\":{\"standoff\":15},\"zerolinecolor\":\"white\",\"automargin\":true,\"zerolinewidth\":2},\"scene\":{\"xaxis\":{\"backgroundcolor\":\"#E5ECF6\",\"gridcolor\":\"white\",\"linecolor\":\"white\",\"showbackground\":true,\"ticks\":\"\",\"zerolinecolor\":\"white\",\"gridwidth\":2},\"yaxis\":{\"backgroundcolor\":\"#E5ECF6\",\"gridcolor\":\"white\",\"linecolor\":\"white\",\"showbackground\":true,\"ticks\":\"\",\"zerolinecolor\":\"white\",\"gridwidth\":2},\"zaxis\":{\"backgroundcolor\":\"#E5ECF6\",\"gridcolor\":\"white\",\"linecolor\":\"white\",\"showbackground\":true,\"ticks\":\"\",\"zerolinecolor\":\"white\",\"gridwidth\":2}},\"shapedefaults\":{\"line\":{\"color\":\"#2a3f5f\"}},\"annotationdefaults\":{\"arrowcolor\":\"#2a3f5f\",\"arrowhead\":0,\"arrowwidth\":1},\"geo\":{\"bgcolor\":\"white\",\"landcolor\":\"#E5ECF6\",\"subunitcolor\":\"white\",\"showland\":true,\"showlakes\":true,\"lakecolor\":\"white\"},\"title\":{\"x\":0.05},\"mapbox\":{\"style\":\"light\"}}},\"xaxis\":{\"anchor\":\"y\",\"domain\":[0.0,1.0],\"title\":{\"text\":\"PC1\"}},\"yaxis\":{\"anchor\":\"x\",\"domain\":[0.0,1.0],\"title\":{\"text\":\"PC2\"}},\"legend\":{\"tracegroupgap\":0},\"margin\":{\"t\":60},\"title\":{\"text\":\"PCA transformed data for breast cancer dataset\"}},                        {\"responsive\": true}                    ).then(function(){\n",
              "                            \n",
              "var gd = document.getElementById('a21a41d9-9fc9-48ab-a57d-6dd048a3551a');\n",
              "var x = new MutationObserver(function (mutations, observer) {{\n",
              "        var display = window.getComputedStyle(gd).display;\n",
              "        if (!display || display === 'none') {{\n",
              "            console.log([gd, 'removed!']);\n",
              "            Plotly.purge(gd);\n",
              "            observer.disconnect();\n",
              "        }}\n",
              "}});\n",
              "\n",
              "// Listen for the removal of the full notebook cells\n",
              "var notebookContainer = gd.closest('#notebook-container');\n",
              "if (notebookContainer) {{\n",
              "    x.observe(notebookContainer, {childList: true});\n",
              "}}\n",
              "\n",
              "// Listen for the clearing of the current output cell\n",
              "var outputEl = gd.closest('.output');\n",
              "if (outputEl) {{\n",
              "    x.observe(outputEl, {childList: true});\n",
              "}}\n",
              "\n",
              "                        })                };                            </script>        </div>\n",
              "</body>\n",
              "</html>"
            ]
          },
          "metadata": {}
        }
      ]
    }
  ]
}